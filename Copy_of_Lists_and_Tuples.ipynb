{
  "nbformat": 4,
  "nbformat_minor": 0,
  "metadata": {
    "colab": {
      "name": "Copy of Lists and Tuples.ipynb",
      "provenance": [],
      "collapsed_sections": [],
      "include_colab_link": true
    },
    "kernelspec": {
      "name": "python3",
      "display_name": "Python 3"
    },
    "language_info": {
      "name": "python"
    }
  },
  "cells": [
    {
      "cell_type": "markdown",
      "metadata": {
        "id": "view-in-github",
        "colab_type": "text"
      },
      "source": [
        "<a href=\"https://colab.research.google.com/github/nathw2017/NwPython/blob/main/Copy_of_Lists_and_Tuples.ipynb\" target=\"_parent\"><img src=\"https://colab.research.google.com/assets/colab-badge.svg\" alt=\"Open In Colab\"/></a>"
      ]
    },
    {
      "cell_type": "markdown",
      "metadata": {
        "id": "Z-M-RCWATK71"
      },
      "source": [
        "# Lists and tuples\n",
        "\n",
        "Often we need to store a number of single items of data together so that they can be processed together. This might be because all the data refers to one person (e.g. name, age, gender, etc) OR it might be because we have a set of data (e.g. all the items that should be displayed in a drop down list, such as all the years from this year back to 100 years ago so that someone can select their year of birth)\n",
        "\n",
        "Python has a range of data structures available including:\n",
        "*   lists  \n",
        "*   tuples  \n",
        "*   dictionaries  \n",
        "*   sets\n",
        "\n",
        "This worksheet looks at lists and tuples.\n",
        "\n",
        "## List\n",
        "A list is a set of related, individual data objects, that are indexed and can be processed as a whole, as subsets or as individual items.  Lists are stored, essentially, as contiguous items in memory so that access can be as quick as possible.  However, they are mutable (they can be changed after they are created and stored) and so those mechanisms need to include extra functionality to deal with changing list sizes.\n",
        "\n",
        "## Tuple\n",
        "Essentially the same as a list but it is immutable.  Once it has been created it can't be changed.  It is stored in memory as contiguous items, with the size required being fixed right from the start.  This makes it faster to access.\n",
        "\n",
        "The code below will create two lists and a tuple.\n",
        "*   the first list contains 1000 random numbers between 1 and 100\n",
        "*   the second list is of random length (up to 5000) and each item is one of the 9 characteristics that are protected under the Equality Act in the UK.\n",
        "*   the tuple contains the 9 protected characteristics\n",
        "\n",
        "Before you start the exercises, run the code below.  It will generate the lists and tuple so that you can use them in the exercises.  If you need to recreate the lists again (because you have changed them and need to work on the originals, just run this cell again).\n",
        "\n",
        "***Note:***  *a list variable contains a reference to the start of the list in memory, rather than storing the list itself.  This means that if you assign the list to another variable (to make a copy), it will only copy across the reference.  If you change the copy, you change the original list.*\n",
        "\n",
        "*If you need to make a copy of the list you will need to use a loop to create a new list and copy all items across.*"
      ]
    },
    {
      "cell_type": "code",
      "metadata": {
        "id": "BDRckXeQXFMT"
      },
      "source": [
        "from random import randint, choice\n",
        "\n",
        "def get_num_list():\n",
        "  num_list = [randint(1,100) for n in range(1000)]\n",
        "  return num_list\n",
        "\n",
        "def get_protected_characteristics():\n",
        "  characteristics_tuple = ('age','disability','gender reassignment','marriage and civil partnership','pregnancy and maternity','race','religion or belief','sex','sexual orientation')\n",
        "  return characteristics_tuple\n",
        "\n",
        "def get_protected_characteristic_list(protected_characteristics):\n",
        "  char_list = [choice(protected_characteristics) for ch in range(randint(1,5000))]\n",
        "  return char_list\n",
        "\n",
        "nums = get_num_list()\n",
        "protected_characteristics = get_protected_characteristics()\n",
        "characteristics = get_protected_characteristic_list(protected_characteristics)"
      ],
      "execution_count": 1,
      "outputs": []
    },
    {
      "cell_type": "markdown",
      "metadata": {
        "id": "xXT38-4ZV45n"
      },
      "source": [
        "## The exercises below will use the lists:  \n",
        "*   **nums** (a list of between 1 and 1000 random numbers, each number is between 0 and 1000)\n",
        "*   **characteristics** (a list of 5000 random protected_characteristics)\n",
        "\n",
        "and the tuple:\n",
        "*  **protected_characteristics** (a set of the 9 protected characteristics identified in the Equality Act)\n",
        "\n",
        "## You can run the cell above any number of times to generate new lists."
      ]
    },
    {
      "cell_type": "markdown",
      "metadata": {
        "id": "Ft0dXl7fUuaK"
      },
      "source": [
        "---\n",
        "### Exercise 1 - list head, tail and shape\n",
        "\n",
        "Write a function, **describe_list()** which will:\n",
        "*  print the length of the list `nums`\n",
        "*  print the first 10 items in `nums`  \n",
        "*  print the last 5 items in `nums`"
      ]
    },
    {
      "cell_type": "code",
      "metadata": {
        "id": "jUcZD7mmTJdA",
        "colab": {
          "base_uri": "https://localhost:8080/"
        },
        "outputId": "f17bbd15-0dbf-41e9-8406-423a813c4a0a"
      },
      "source": [
        "def describe_list():\n",
        "  print(len(nums))\n",
        "  print(nums[:10])\n",
        "  print(nums[995:])\n",
        "describe_list()"
      ],
      "execution_count": null,
      "outputs": [
        {
          "output_type": "stream",
          "name": "stdout",
          "text": [
            "1000\n",
            "[23, 100, 59, 8, 95, 86, 28, 26, 49, 3]\n",
            "[16, 42, 90, 72, 49]\n"
          ]
        }
      ]
    },
    {
      "cell_type": "markdown",
      "metadata": {
        "id": "yNWg08k6bXv0"
      },
      "source": [
        "---\n",
        "### Exercise 2 - show tuple items\n",
        "\n",
        "Write a function which will:\n",
        "*   use a loop to print the list of protected characteristics from the `protected_characteristics` tuple.\n"
      ]
    },
    {
      "cell_type": "code",
      "metadata": {
        "id": "P2HnCG9pb1BS",
        "colab": {
          "base_uri": "https://localhost:8080/"
        },
        "outputId": "158ce890-2e58-43a5-8e1c-8dd644c9910f"
      },
      "source": [
        "def items():\n",
        "  for protected in protected_characteristics:\n",
        "    print(protected)\n",
        "items()"
      ],
      "execution_count": null,
      "outputs": [
        {
          "output_type": "stream",
          "name": "stdout",
          "text": [
            "age\n",
            "disability\n",
            "gender reassignment\n",
            "marriage and civil partnership\n",
            "pregnancy and maternity\n",
            "race\n",
            "religion or belief\n",
            "sex\n",
            "sexual orientation\n"
          ]
        }
      ]
    },
    {
      "cell_type": "markdown",
      "metadata": {
        "id": "RTSuQZs4b1JU"
      },
      "source": [
        "---\n",
        "### Exercise 3 - list a random subset\n",
        "\n",
        "Write a function which will:\n",
        "*  calculate the position of the middle item in the `characteristics` list   \n",
        "(*Hint: use len() to help with this*)\n",
        "*  calculate the position of the item that is 5 places before the middle item\n",
        "*  calculate the position of the item that is 5 places after the middle item\n",
        "*  print the part of the list that includes the items from 5 places before to 5 places after.  \n",
        "\n",
        "Expected output:  \n",
        "Your list will include 11 items."
      ]
    },
    {
      "cell_type": "code",
      "metadata": {
        "id": "OwhFnH2kdC11",
        "colab": {
          "base_uri": "https://localhost:8080/"
        },
        "outputId": "4f3bae69-5870-460a-add0-4ad66259478e"
      },
      "source": [
        "def subset():\n",
        "  middle=len(characteristics)//2\n",
        "  five_before=middle-6\n",
        "  five_after=middle+5\n",
        "  print(characteristics[five_before:five_after])\n",
        "subset()"
      ],
      "execution_count": null,
      "outputs": [
        {
          "output_type": "stream",
          "name": "stdout",
          "text": [
            "['gender reassignment', 'sexual orientation', 'age', 'religion or belief', 'sex', 'religion or belief', 'disability', 'disability', 'sex', 'sex', 'race']\n"
          ]
        }
      ]
    },
    {
      "cell_type": "markdown",
      "metadata": {
        "id": "KS0x3oFNePI9"
      },
      "source": [
        "---\n",
        "### Exercise 4 - create a copy\n",
        "\n",
        "Write a function which will: use a for loop to create a copy of the `nums` list:\n",
        "\n",
        "*   create a new, empty, list called **new_nums**  (*Hint: an empty list is [ ]*)\n",
        "*   use a for loop which uses the following syntax:  `for num in nums:`\n",
        "*   each time round the loop append `num` to `new_nums`  ( *`new_nums.append(num)`*)\n",
        "*   print the first 10 items of `new_nums`\n",
        "*   print the first 10 items of `nums`\n",
        "*   print the length of both lists"
      ]
    },
    {
      "cell_type": "code",
      "metadata": {
        "id": "mpK1Ip3we-uC",
        "colab": {
          "base_uri": "https://localhost:8080/"
        },
        "outputId": "d5d7e3e7-1e2b-46a6-99d7-33f2bc9eb153"
      },
      "source": [
        "def copy_list():\n",
        "  new_nums=[]\n",
        "  for num in nums:\n",
        "    new_nums.append(num)\n",
        "  print(new_nums[:10])\n",
        "  print(nums[:10])\n",
        "  print(len(new_nums))\n",
        "  print(len(nums))\n",
        "copy_list()"
      ],
      "execution_count": null,
      "outputs": [
        {
          "output_type": "stream",
          "name": "stdout",
          "text": [
            "[55, 92, 95, 49, 94, 51, 59, 41, 39, 76]\n",
            "[55, 92, 95, 49, 94, 51, 59, 41, 39, 76]\n",
            "1001\n",
            "1001\n"
          ]
        }
      ]
    },
    {
      "cell_type": "markdown",
      "metadata": {
        "id": "deUIFWjRe-3G"
      },
      "source": [
        "\n",
        "\n",
        "```\n",
        "# This is formatted as code\n",
        "```\n",
        "\n",
        "---\n",
        "### Exercise 5 - count the occurrence of age in characteristics\n",
        "\n",
        "Write a function which will use the list method:\n",
        "\n",
        "`num_items = list_name.count(item)`\n",
        "\n",
        "to count the number of occurrences of 'age' in the `characteristics` list.  Print the result."
      ]
    },
    {
      "cell_type": "code",
      "metadata": {
        "id": "b9TrHQ9hfoIU",
        "colab": {
          "base_uri": "https://localhost:8080/"
        },
        "outputId": "3c5b822d-6d2b-41fc-b938-261886107225"
      },
      "source": [
        "def occurrence_age():\n",
        "  num_items = characteristics.count(\"age\")\n",
        "  print(num_items)\n",
        "\n",
        "occurrence_age()"
      ],
      "execution_count": null,
      "outputs": [
        {
          "output_type": "stream",
          "name": "stdout",
          "text": [
            "225\n"
          ]
        }
      ]
    },
    {
      "cell_type": "markdown",
      "metadata": {
        "id": "zm2VI5RmfoSy"
      },
      "source": [
        "---\n",
        "### Exercise 6 - sort the nums list\n",
        "\n",
        "Write a function which will:\n",
        "*   call the function `get_num_list()` and store the result in a new list called **sort_nums**\n",
        "*   print the first, and last, 20 items in the `sort_nums` list\n",
        "*   use the `list_name.sort()` method to sort the `sort_nums` list into ascending order\n",
        "*   print the first, and last, 20 items again  \n",
        "*   use the `list_name.sort()` method again to sort the `sort_nums` list into descending order\n",
        "*   print the first, and last, 20 items again"
      ]
    },
    {
      "cell_type": "code",
      "metadata": {
        "id": "Fksgpj9JgWDs",
        "colab": {
          "base_uri": "https://localhost:8080/"
        },
        "outputId": "dade3b56-bd39-40ff-ff2f-d642cd670d6f"
      },
      "source": [
        "def sortlist():\n",
        "  sort_nums=get_num_list()\n",
        "  print(sort_nums[:20],sort_nums[20:])\n",
        "  sort_nums.sort()\n",
        "  print(\"sorted\",sort_nums)\n",
        "  sort_nums.sort(reverse=True)\n",
        "  print(\"revese\",sort_nums[:20],sort_nums[-1:])\n",
        "sortlist()"
      ],
      "execution_count": null,
      "outputs": [
        {
          "output_type": "stream",
          "name": "stdout",
          "text": [
            "[94, 17, 91, 12, 26, 5, 6, 61, 84, 15, 54, 77, 96, 77, 44, 26, 21, 5, 67, 23] [10, 28, 27, 72, 18, 88, 2, 99, 6, 53, 24, 70, 4, 70, 57, 66, 38, 90, 92, 73, 86, 14, 52, 61, 100, 30, 29, 44, 92, 88, 87, 75, 72, 91, 68, 81, 58, 83, 52, 47, 62, 81, 61, 24, 63, 10, 23, 69, 43, 2, 36, 80, 91, 23, 1, 58, 36, 52, 45, 67, 33, 38, 60, 8, 10, 16, 55, 54, 22, 66, 89, 50, 96, 57, 12, 99, 54, 88, 29, 34, 33, 49, 49, 16, 18, 58, 38, 72, 1, 94, 57, 60, 67, 85, 1, 51, 3, 51, 38, 75, 81, 25, 66, 32, 17, 98, 55, 5, 27, 1, 6, 24, 67, 80, 100, 28, 76, 76, 28, 11, 32, 55, 53, 36, 45, 68, 46, 98, 64, 68, 18, 38, 89, 34, 23, 46, 79, 90, 57, 30, 13, 84, 45, 16, 74, 88, 100, 19, 78, 5, 84, 64, 2, 27, 4, 84, 47, 33, 54, 42, 18, 80, 46, 27, 95, 52, 34, 56, 32, 43, 70, 56, 38, 38, 77, 2, 12, 64, 15, 70, 90, 86, 88, 56, 51, 80, 62, 74, 45, 47, 8, 74, 31, 51, 84, 55, 24, 57, 32, 62, 67, 65, 72, 21, 21, 66, 61, 99, 78, 86, 70, 44, 84, 39, 68, 6, 37, 37, 4, 61, 42, 47, 1, 32, 94, 2, 81, 1, 93, 98, 35, 10, 63, 60, 17, 29, 21, 52, 3, 86, 14, 75, 6, 97, 91, 31, 62, 70, 36, 9, 42, 41, 66, 43, 32, 88, 14, 45, 16, 95, 52, 51, 4, 5, 57, 13, 13, 53, 96, 56, 69, 40, 80, 39, 99, 19, 53, 59, 61, 84, 27, 41, 16, 52, 68, 19, 73, 34, 66, 65, 30, 56, 36, 56, 92, 13, 26, 4, 26, 3, 85, 12, 39, 93, 48, 89, 82, 37, 57, 34, 3, 90, 45, 71, 91, 43, 71, 50, 55, 51, 15, 85, 96, 54, 37, 94, 65, 99, 44, 97, 27, 46, 75, 42, 42, 94, 67, 97, 65, 71, 59, 84, 70, 9, 2, 47, 40, 3, 11, 20, 85, 57, 7, 40, 70, 39, 28, 98, 16, 17, 73, 3, 38, 94, 25, 69, 23, 16, 9, 68, 59, 77, 63, 32, 83, 55, 70, 17, 30, 61, 91, 80, 31, 89, 89, 94, 47, 18, 84, 19, 57, 52, 92, 36, 27, 2, 65, 85, 6, 5, 32, 74, 5, 57, 39, 89, 71, 88, 88, 71, 71, 79, 42, 41, 92, 71, 1, 3, 72, 42, 19, 59, 87, 6, 50, 31, 34, 53, 95, 91, 46, 10, 81, 25, 62, 69, 62, 84, 79, 47, 93, 90, 49, 97, 99, 71, 9, 87, 15, 47, 54, 31, 77, 100, 91, 25, 76, 93, 22, 2, 85, 11, 88, 80, 20, 72, 45, 84, 25, 34, 83, 55, 53, 8, 60, 97, 10, 1, 67, 9, 65, 78, 42, 43, 86, 95, 97, 60, 56, 56, 21, 93, 40, 76, 47, 97, 82, 51, 54, 73, 95, 89, 8, 44, 58, 26, 18, 92, 69, 34, 84, 86, 44, 74, 34, 37, 71, 10, 57, 65, 88, 57, 56, 97, 88, 27, 83, 83, 88, 90, 33, 100, 38, 100, 54, 7, 62, 75, 85, 1, 24, 45, 19, 2, 31, 55, 10, 26, 75, 88, 27, 52, 16, 44, 60, 85, 60, 58, 47, 25, 94, 59, 20, 76, 44, 11, 59, 12, 32, 91, 86, 98, 83, 31, 68, 83, 13, 55, 59, 11, 97, 49, 14, 61, 7, 61, 39, 70, 6, 59, 37, 4, 88, 14, 95, 63, 23, 95, 83, 77, 38, 75, 59, 39, 89, 90, 38, 85, 83, 28, 82, 83, 6, 97, 10, 40, 69, 5, 10, 29, 48, 53, 86, 87, 66, 21, 54, 3, 34, 15, 43, 42, 32, 9, 61, 65, 60, 92, 92, 76, 20, 40, 70, 81, 78, 8, 25, 72, 41, 12, 86, 95, 99, 31, 34, 21, 12, 55, 99, 98, 41, 78, 86, 93, 13, 76, 57, 3, 11, 66, 47, 99, 28, 7, 13, 52, 47, 38, 81, 13, 68, 25, 72, 65, 67, 97, 64, 87, 41, 96, 64, 19, 84, 10, 42, 55, 17, 82, 51, 77, 13, 72, 33, 73, 92, 58, 73, 41, 46, 55, 12, 32, 43, 15, 57, 98, 49, 99, 18, 34, 76, 19, 85, 82, 96, 10, 35, 40, 35, 22, 76, 63, 38, 80, 48, 6, 63, 9, 34, 73, 59, 80, 35, 11, 77, 85, 67, 73, 66, 5, 74, 95, 73, 18, 62, 8, 53, 45, 24, 14, 89, 20, 32, 18, 25, 26, 47, 40, 100, 56, 77, 1, 4, 27, 25, 67, 15, 79, 46, 58, 98, 50, 81, 38, 24, 20, 74, 79, 75, 40, 78, 7, 85, 80, 88, 32, 15, 88, 56, 12, 36, 27, 68, 71, 26, 53, 57, 60, 25, 85, 84, 53, 76, 65, 13, 9, 33, 37, 12, 70, 51, 42, 65, 13, 47, 64, 10, 87, 4, 44, 54, 51, 15, 4, 59, 10, 98, 3, 60, 30, 17, 77, 98, 38, 29, 77, 60, 34, 92, 38, 59, 48, 16, 94, 70, 36, 35, 59, 44, 27, 34, 38, 75, 97, 92, 31, 36, 28, 84, 33, 95, 21, 28, 91, 100, 90, 11, 98, 98, 73, 31, 91, 39, 42, 71, 12, 36, 58, 90, 20, 63, 55, 73, 42, 82, 72, 18, 43, 26, 18, 14, 19, 11, 90, 52, 14, 42, 94, 21, 55, 27, 74, 29, 20, 39, 100, 2, 74, 52, 27, 34, 65, 10, 23, 16, 1, 98, 92, 34, 21, 94, 44, 74, 28, 48, 47, 11, 44, 65, 35, 6, 55, 77, 44, 1, 44, 100, 86, 1, 69, 27, 45, 27, 42, 61, 33, 33, 96, 56, 57, 68, 42, 56, 38, 47, 9, 69, 60, 12, 31, 80, 13, 28, 4, 18, 2, 66, 22, 93, 71]\n",
            "sorted [1, 1, 1, 1, 1, 1, 1, 1, 1, 1, 1, 1, 1, 2, 2, 2, 2, 2, 2, 2, 2, 2, 2, 2, 3, 3, 3, 3, 3, 3, 3, 3, 3, 3, 4, 4, 4, 4, 4, 4, 4, 4, 4, 4, 5, 5, 5, 5, 5, 5, 5, 5, 5, 6, 6, 6, 6, 6, 6, 6, 6, 6, 6, 6, 7, 7, 7, 7, 7, 8, 8, 8, 8, 8, 8, 9, 9, 9, 9, 9, 9, 9, 9, 9, 10, 10, 10, 10, 10, 10, 10, 10, 10, 10, 10, 10, 10, 10, 10, 11, 11, 11, 11, 11, 11, 11, 11, 11, 11, 12, 12, 12, 12, 12, 12, 12, 12, 12, 12, 12, 12, 13, 13, 13, 13, 13, 13, 13, 13, 13, 13, 13, 13, 14, 14, 14, 14, 14, 14, 14, 14, 15, 15, 15, 15, 15, 15, 15, 15, 15, 16, 16, 16, 16, 16, 16, 16, 16, 16, 16, 17, 17, 17, 17, 17, 17, 17, 18, 18, 18, 18, 18, 18, 18, 18, 18, 18, 18, 18, 19, 19, 19, 19, 19, 19, 19, 19, 19, 20, 20, 20, 20, 20, 20, 20, 20, 21, 21, 21, 21, 21, 21, 21, 21, 21, 21, 22, 22, 22, 22, 23, 23, 23, 23, 23, 23, 23, 24, 24, 24, 24, 24, 24, 24, 25, 25, 25, 25, 25, 25, 25, 25, 25, 25, 25, 26, 26, 26, 26, 26, 26, 26, 26, 26, 27, 27, 27, 27, 27, 27, 27, 27, 27, 27, 27, 27, 27, 27, 27, 27, 28, 28, 28, 28, 28, 28, 28, 28, 28, 28, 29, 29, 29, 29, 29, 29, 30, 30, 30, 30, 30, 31, 31, 31, 31, 31, 31, 31, 31, 31, 31, 31, 32, 32, 32, 32, 32, 32, 32, 32, 32, 32, 32, 32, 32, 33, 33, 33, 33, 33, 33, 33, 33, 33, 34, 34, 34, 34, 34, 34, 34, 34, 34, 34, 34, 34, 34, 34, 34, 34, 34, 35, 35, 35, 35, 35, 35, 36, 36, 36, 36, 36, 36, 36, 36, 36, 36, 37, 37, 37, 37, 37, 37, 37, 38, 38, 38, 38, 38, 38, 38, 38, 38, 38, 38, 38, 38, 38, 38, 38, 38, 38, 39, 39, 39, 39, 39, 39, 39, 39, 39, 40, 40, 40, 40, 40, 40, 40, 40, 40, 41, 41, 41, 41, 41, 41, 41, 42, 42, 42, 42, 42, 42, 42, 42, 42, 42, 42, 42, 42, 42, 42, 42, 43, 43, 43, 43, 43, 43, 43, 43, 44, 44, 44, 44, 44, 44, 44, 44, 44, 44, 44, 44, 44, 44, 45, 45, 45, 45, 45, 45, 45, 45, 45, 45, 46, 46, 46, 46, 46, 46, 46, 47, 47, 47, 47, 47, 47, 47, 47, 47, 47, 47, 47, 47, 47, 47, 47, 48, 48, 48, 48, 48, 49, 49, 49, 49, 49, 50, 50, 50, 50, 51, 51, 51, 51, 51, 51, 51, 51, 51, 51, 52, 52, 52, 52, 52, 52, 52, 52, 52, 52, 52, 52, 53, 53, 53, 53, 53, 53, 53, 53, 53, 53, 54, 54, 54, 54, 54, 54, 54, 54, 54, 54, 55, 55, 55, 55, 55, 55, 55, 55, 55, 55, 55, 55, 55, 55, 55, 56, 56, 56, 56, 56, 56, 56, 56, 56, 56, 56, 56, 56, 57, 57, 57, 57, 57, 57, 57, 57, 57, 57, 57, 57, 57, 57, 57, 57, 58, 58, 58, 58, 58, 58, 58, 58, 59, 59, 59, 59, 59, 59, 59, 59, 59, 59, 59, 59, 59, 60, 60, 60, 60, 60, 60, 60, 60, 60, 60, 60, 60, 61, 61, 61, 61, 61, 61, 61, 61, 61, 61, 61, 62, 62, 62, 62, 62, 62, 62, 62, 63, 63, 63, 63, 63, 63, 63, 64, 64, 64, 64, 64, 64, 65, 65, 65, 65, 65, 65, 65, 65, 65, 65, 65, 65, 65, 66, 66, 66, 66, 66, 66, 66, 66, 66, 66, 67, 67, 67, 67, 67, 67, 67, 67, 67, 67, 68, 68, 68, 68, 68, 68, 68, 68, 68, 68, 69, 69, 69, 69, 69, 69, 69, 69, 70, 70, 70, 70, 70, 70, 70, 70, 70, 70, 70, 70, 70, 71, 71, 71, 71, 71, 71, 71, 71, 71, 71, 71, 71, 72, 72, 72, 72, 72, 72, 72, 72, 72, 72, 73, 73, 73, 73, 73, 73, 73, 73, 73, 73, 73, 74, 74, 74, 74, 74, 74, 74, 74, 74, 74, 75, 75, 75, 75, 75, 75, 75, 75, 75, 76, 76, 76, 76, 76, 76, 76, 76, 76, 76, 77, 77, 77, 77, 77, 77, 77, 77, 77, 77, 77, 77, 78, 78, 78, 78, 78, 78, 79, 79, 79, 79, 79, 80, 80, 80, 80, 80, 80, 80, 80, 80, 80, 80, 81, 81, 81, 81, 81, 81, 81, 81, 82, 82, 82, 82, 82, 82, 83, 83, 83, 83, 83, 83, 83, 83, 83, 83, 84, 84, 84, 84, 84, 84, 84, 84, 84, 84, 84, 84, 84, 84, 84, 85, 85, 85, 85, 85, 85, 85, 85, 85, 85, 85, 85, 85, 86, 86, 86, 86, 86, 86, 86, 86, 86, 86, 86, 87, 87, 87, 87, 87, 87, 88, 88, 88, 88, 88, 88, 88, 88, 88, 88, 88, 88, 88, 88, 88, 88, 89, 89, 89, 89, 89, 89, 89, 89, 89, 90, 90, 90, 90, 90, 90, 90, 90, 90, 90, 91, 91, 91, 91, 91, 91, 91, 91, 91, 91, 91, 92, 92, 92, 92, 92, 92, 92, 92, 92, 92, 92, 92, 93, 93, 93, 93, 93, 93, 93, 94, 94, 94, 94, 94, 94, 94, 94, 94, 94, 94, 95, 95, 95, 95, 95, 95, 95, 95, 95, 95, 96, 96, 96, 96, 96, 96, 96, 97, 97, 97, 97, 97, 97, 97, 97, 97, 97, 97, 97, 98, 98, 98, 98, 98, 98, 98, 98, 98, 98, 98, 98, 98, 99, 99, 99, 99, 99, 99, 99, 99, 99, 99, 100, 100, 100, 100, 100, 100, 100, 100, 100, 100]\n",
            "revese [100, 100, 100, 100, 100, 100, 100, 100, 100, 100, 99, 99, 99, 99, 99, 99, 99, 99, 99, 99] [1]\n"
          ]
        }
      ]
    },
    {
      "cell_type": "markdown",
      "metadata": {
        "id": "_OF-Xuj1UrW0"
      },
      "source": [
        "---\n",
        "### Exercise 7 - get statistics (max(), min(), sum() )\n",
        "\n",
        "Write a function which will:\n",
        "*   print the maximum and minimum numbers in the `nums` list  \n",
        "*   print the sum of the `nums` list\n",
        "*   calculate and print the average of the `nums` list (using `len()` to help)"
      ]
    },
    {
      "cell_type": "code",
      "metadata": {
        "id": "9YmYMenZVGod",
        "colab": {
          "base_uri": "https://localhost:8080/"
        },
        "outputId": "917a5e5e-e2b8-4541-96ed-816211a86671"
      },
      "source": [
        "def min_max():\n",
        "  sort_nums=get_num_list()\n",
        "  total_nums=sum(sort_nums)\n",
        "  print(\"The smallest number is \", min(sort_nums))\n",
        "  print(\"The Biggest number is \", max(sort_nums))\n",
        "  print(\"the total of numbers is\", total_nums)\n",
        "  print(\"the average is\", total_nums//len(sort_nums))\n",
        "min_max()"
      ],
      "execution_count": null,
      "outputs": [
        {
          "output_type": "stream",
          "name": "stdout",
          "text": [
            "The smallest number is  1\n",
            "The Biggest number is  100\n",
            "the total of numbers is 50997\n",
            "the total of numbers is 50\n"
          ]
        }
      ]
    },
    {
      "cell_type": "markdown",
      "metadata": {
        "id": "Mn4tHQ_KVbHa"
      },
      "source": [
        "---\n",
        "### Exercise 8 - percentage difference\n",
        "\n",
        "Write a function which will:\n",
        "*   generate a new list called **ex8_nums** using `get_num_list()`\n",
        "*   calculate and print the percentage difference between the first number in each list (as a percentage of the number in the nums list) (Hint:  find the difference between the two numbers, divide the difference by the number in `nums` and multiply by 100)\n",
        "*   calculate and print the percentage difference between the last numbers in each list in the same way\n",
        "*   calculate and print the percentage difference between the middle numbers in each list in the same way.\n",
        "*   calculate and print the percentage difference between the sums of each list in the same way"
      ]
    },
    {
      "cell_type": "code",
      "metadata": {
        "id": "nJCQjZIeZL0e",
        "colab": {
          "base_uri": "https://localhost:8080/"
        },
        "outputId": "1c044a0e-5297-4680-e2f4-11780a283fa8"
      },
      "source": [
        "def perentage_difference():\n",
        "  ex8_nums=get_num_list()\n",
        "  print(ex8_nums)\n",
        "  print(nums)\n",
        "  percentage_1=ex8_nums[0]/nums[0]*100\n",
        "  percentage_2=ex8_nums[999]/nums[999]*100\n",
        "  percentage_3=ex8_nums[499]/nums[499]*100\n",
        "  percentage_4=sum(ex8_nums)/sum(nums)*100\n",
        "  print(\"Percentage diffrence betwen first 2 numbers\",round(percentage_1,2),\"%\")\n",
        "  print(\"Percentage diffrence betwen last 2 numbers\",round(percentage_2,2),\"%\")\n",
        "  print(\"Percentage diffrence betwen middle numbers\",round(percentage_3,2),\"%\")\n",
        "  print(\"Percentage diffrence betwen the sums of the two lists\",round(percentage_4,2),\"%\")\n",
        "perentage_difference()"
      ],
      "execution_count": 87,
      "outputs": [
        {
          "output_type": "stream",
          "name": "stdout",
          "text": [
            "[45, 96, 26, 4, 9, 15, 63, 58, 23, 85, 6, 85, 33, 29, 54, 12, 20, 40, 64, 80, 97, 93, 4, 25, 87, 22, 93, 28, 5, 5, 24, 16, 73, 65, 100, 92, 92, 89, 86, 65, 49, 77, 29, 61, 34, 24, 33, 12, 29, 77, 30, 54, 74, 93, 31, 40, 18, 44, 15, 84, 12, 51, 89, 1, 31, 74, 98, 82, 9, 16, 56, 63, 51, 31, 31, 96, 8, 100, 20, 45, 65, 93, 44, 17, 49, 31, 2, 65, 42, 18, 6, 79, 96, 82, 43, 97, 9, 30, 97, 64, 34, 67, 79, 67, 46, 44, 80, 38, 41, 21, 80, 74, 86, 85, 11, 46, 85, 97, 13, 80, 93, 27, 3, 43, 38, 50, 67, 64, 78, 51, 33, 90, 75, 71, 44, 41, 82, 26, 17, 59, 26, 50, 12, 31, 86, 89, 29, 32, 72, 24, 57, 79, 20, 86, 63, 71, 26, 51, 5, 92, 21, 27, 20, 21, 26, 67, 81, 95, 6, 98, 48, 14, 69, 8, 89, 91, 50, 87, 19, 70, 11, 31, 70, 90, 55, 90, 46, 77, 7, 20, 74, 53, 48, 76, 96, 45, 95, 19, 33, 70, 26, 2, 46, 38, 7, 76, 65, 65, 78, 41, 69, 52, 52, 73, 61, 50, 35, 10, 55, 21, 76, 80, 23, 20, 66, 45, 49, 6, 76, 46, 86, 69, 18, 87, 32, 63, 36, 14, 16, 74, 21, 64, 81, 43, 91, 30, 92, 19, 88, 67, 48, 8, 38, 88, 100, 5, 97, 57, 96, 49, 36, 59, 5, 90, 90, 25, 41, 12, 95, 78, 54, 29, 43, 71, 31, 8, 95, 18, 67, 83, 63, 67, 59, 64, 31, 50, 19, 14, 34, 100, 51, 60, 31, 37, 94, 51, 21, 50, 51, 66, 79, 78, 18, 72, 33, 43, 81, 25, 25, 90, 43, 48, 17, 54, 83, 85, 82, 22, 80, 40, 6, 84, 37, 12, 22, 32, 93, 70, 64, 70, 44, 20, 43, 94, 56, 59, 50, 98, 93, 87, 60, 84, 8, 18, 99, 29, 37, 40, 40, 47, 56, 40, 56, 7, 56, 35, 48, 90, 7, 50, 70, 29, 28, 55, 40, 50, 1, 87, 16, 66, 95, 20, 55, 14, 3, 91, 46, 30, 1, 68, 44, 52, 94, 43, 98, 40, 18, 45, 26, 14, 16, 63, 99, 46, 41, 89, 51, 42, 12, 70, 55, 59, 53, 37, 14, 74, 67, 14, 35, 87, 14, 78, 6, 41, 18, 25, 97, 32, 23, 12, 96, 6, 20, 68, 22, 20, 80, 80, 37, 73, 99, 47, 100, 31, 57, 11, 87, 43, 28, 85, 72, 25, 18, 80, 98, 3, 81, 92, 20, 53, 13, 12, 10, 9, 3, 27, 8, 21, 86, 7, 51, 78, 93, 23, 80, 73, 39, 43, 81, 15, 53, 50, 41, 56, 74, 64, 64, 3, 21, 77, 30, 53, 26, 11, 65, 82, 65, 90, 1, 58, 84, 12, 9, 10, 30, 76, 79, 15, 1, 99, 15, 79, 88, 45, 81, 36, 99, 94, 42, 93, 69, 49, 7, 25, 37, 46, 1, 55, 13, 70, 68, 34, 26, 64, 53, 54, 52, 59, 93, 44, 36, 74, 6, 22, 52, 84, 56, 63, 61, 81, 93, 81, 97, 19, 89, 88, 24, 4, 28, 100, 25, 27, 98, 9, 11, 17, 73, 67, 69, 34, 7, 71, 45, 7, 53, 48, 54, 16, 94, 98, 18, 22, 2, 51, 14, 47, 81, 62, 21, 45, 7, 22, 72, 14, 92, 7, 59, 89, 26, 39, 43, 56, 61, 40, 58, 19, 69, 37, 83, 95, 13, 86, 11, 22, 35, 67, 32, 89, 96, 58, 85, 26, 70, 12, 36, 27, 61, 59, 61, 1, 33, 41, 87, 21, 95, 35, 81, 89, 29, 8, 68, 92, 85, 60, 23, 94, 40, 98, 69, 84, 54, 32, 49, 20, 14, 43, 7, 49, 3, 92, 55, 66, 17, 52, 53, 20, 48, 24, 7, 78, 55, 37, 26, 9, 48, 94, 14, 30, 13, 23, 54, 84, 17, 74, 40, 66, 70, 88, 59, 89, 98, 17, 94, 88, 96, 93, 20, 20, 12, 58, 86, 86, 49, 86, 45, 45, 59, 79, 9, 92, 55, 17, 60, 14, 83, 96, 8, 84, 70, 42, 40, 49, 24, 80, 71, 37, 61, 3, 69, 82, 47, 95, 97, 86, 15, 8, 63, 47, 64, 81, 83, 4, 41, 5, 60, 27, 61, 76, 84, 7, 40, 99, 50, 72, 72, 52, 37, 58, 10, 9, 24, 27, 27, 85, 30, 43, 95, 82, 62, 85, 33, 12, 52, 19, 40, 50, 59, 62, 30, 21, 74, 25, 29, 9, 57, 40, 89, 39, 81, 19, 99, 16, 78, 67, 76, 98, 8, 52, 32, 77, 4, 69, 36, 44, 70, 94, 100, 5, 80, 23, 19, 29, 63, 73, 82, 56, 96, 66, 56, 68, 4, 48, 1, 64, 16, 69, 74, 46, 31, 6, 4, 33, 50, 86, 46, 100, 48, 88, 11, 97, 72, 96, 61, 37, 27, 99, 14, 35, 53, 57, 61, 25, 55, 27, 12, 60, 49, 43, 34, 28, 54, 18, 57, 8, 22, 19, 68, 81, 87, 77, 30, 82, 10, 69, 76, 12, 37, 93, 67, 97, 73, 85, 12, 64, 69, 69, 57, 49, 94, 15, 42, 52, 86, 44, 16, 40, 44, 93, 76, 69, 54, 49, 9, 12, 55, 9, 96, 41, 90, 22, 35, 78, 48, 83, 88, 65, 7, 27, 26, 96, 10, 36, 34, 85, 88, 45, 45, 9, 1, 13, 65, 61, 73, 93, 53, 49, 72, 16, 15, 92, 7, 8, 75, 54, 9, 11, 52, 72, 1, 97, 88, 55, 5, 16, 7, 88, 31, 25, 76, 1, 78, 15, 58, 76, 61, 91, 57, 46, 7, 30, 40, 7, 95, 32, 64, 3, 100, 33, 76, 75, 33, 62, 26, 84, 88, 42, 88, 78, 14, 62, 77, 60, 4, 28, 17, 30, 100, 60, 47, 23, 25, 74, 19, 77, 47, 73, 84, 23, 21, 71]\n",
            "[39, 100, 78, 45, 72, 96, 34, 26, 6, 63, 8, 37, 52, 90, 23, 48, 1, 46, 62, 7, 69, 54, 8, 20, 88, 73, 80, 7, 72, 41, 28, 49, 94, 43, 73, 28, 59, 74, 37, 42, 52, 43, 21, 56, 63, 62, 46, 17, 55, 68, 70, 90, 7, 55, 29, 77, 69, 25, 74, 86, 62, 21, 56, 1, 33, 67, 87, 49, 75, 9, 84, 7, 84, 3, 75, 96, 11, 77, 55, 35, 76, 69, 58, 58, 4, 5, 81, 78, 62, 26, 22, 42, 86, 87, 19, 89, 21, 48, 42, 33, 58, 20, 65, 39, 26, 18, 18, 38, 76, 35, 36, 74, 55, 3, 69, 98, 27, 60, 30, 58, 62, 99, 68, 60, 59, 83, 1, 36, 7, 19, 87, 60, 6, 66, 1, 37, 23, 53, 52, 38, 68, 53, 100, 95, 28, 58, 18, 82, 95, 38, 15, 45, 33, 83, 62, 17, 97, 48, 65, 45, 90, 55, 40, 95, 48, 77, 31, 40, 69, 8, 13, 5, 67, 69, 48, 29, 33, 66, 69, 69, 14, 19, 97, 100, 86, 54, 56, 11, 87, 2, 99, 98, 66, 73, 47, 43, 85, 45, 32, 68, 55, 78, 23, 93, 12, 7, 56, 36, 14, 77, 20, 47, 35, 72, 32, 66, 99, 41, 25, 37, 11, 99, 94, 57, 24, 43, 84, 59, 80, 43, 89, 57, 50, 90, 87, 7, 8, 98, 51, 38, 19, 70, 73, 11, 93, 80, 73, 83, 48, 86, 39, 51, 13, 43, 32, 79, 24, 52, 6, 29, 89, 16, 36, 96, 99, 4, 79, 19, 93, 75, 36, 5, 44, 97, 64, 56, 48, 94, 66, 28, 4, 22, 84, 40, 100, 58, 36, 88, 62, 61, 19, 91, 46, 41, 94, 18, 28, 39, 75, 43, 99, 81, 80, 23, 53, 50, 81, 78, 61, 1, 44, 73, 73, 81, 42, 56, 88, 75, 6, 48, 32, 23, 43, 11, 94, 10, 38, 60, 95, 56, 39, 20, 87, 55, 12, 12, 42, 11, 75, 97, 5, 61, 20, 13, 69, 79, 16, 30, 27, 77, 26, 35, 37, 67, 57, 44, 43, 10, 22, 78, 49, 94, 53, 47, 11, 84, 33, 92, 41, 65, 65, 30, 71, 90, 24, 71, 63, 50, 32, 57, 43, 16, 57, 86, 51, 67, 70, 9, 21, 56, 49, 82, 18, 98, 39, 78, 12, 44, 3, 97, 44, 6, 43, 10, 55, 69, 54, 55, 94, 52, 34, 85, 90, 72, 3, 27, 18, 20, 77, 63, 28, 86, 86, 96, 75, 80, 56, 6, 1, 4, 37, 1, 72, 60, 11, 61, 85, 40, 76, 89, 50, 7, 61, 52, 10, 15, 52, 17, 70, 92, 43, 91, 32, 4, 80, 71, 85, 67, 42, 100, 82, 39, 89, 57, 85, 66, 93, 42, 56, 14, 55, 64, 78, 29, 22, 82, 14, 74, 97, 2, 84, 15, 39, 82, 24, 11, 99, 47, 81, 52, 47, 76, 61, 84, 91, 59, 95, 77, 58, 5, 52, 14, 78, 19, 16, 26, 3, 27, 76, 51, 3, 85, 57, 77, 39, 31, 18, 59, 24, 86, 12, 37, 46, 64, 6, 99, 77, 2, 48, 70, 95, 51, 77, 33, 68, 97, 5, 62, 88, 63, 45, 74, 25, 76, 41, 25, 30, 57, 13, 23, 88, 65, 72, 8, 21, 88, 56, 90, 20, 95, 78, 46, 82, 62, 70, 58, 41, 51, 76, 80, 2, 6, 78, 6, 25, 4, 65, 97, 62, 9, 76, 58, 6, 23, 52, 33, 42, 36, 83, 47, 96, 35, 93, 11, 72, 4, 9, 79, 31, 98, 19, 7, 18, 8, 58, 67, 40, 51, 63, 96, 27, 46, 99, 23, 54, 47, 33, 23, 78, 83, 80, 81, 51, 22, 6, 86, 1, 22, 22, 76, 76, 45, 62, 54, 36, 64, 7, 95, 10, 96, 59, 41, 2, 93, 63, 100, 49, 25, 32, 40, 58, 75, 60, 79, 99, 49, 88, 9, 14, 28, 68, 56, 21, 44, 24, 100, 68, 57, 1, 78, 81, 95, 29, 83, 29, 68, 63, 47, 95, 98, 99, 19, 58, 8, 91, 65, 94, 93, 1, 79, 39, 13, 52, 49, 77, 65, 15, 59, 56, 3, 82, 38, 9, 4, 4, 3, 76, 44, 15, 28, 57, 95, 97, 18, 71, 26, 19, 2, 87, 43, 87, 48, 94, 84, 35, 79, 91, 85, 59, 75, 77, 98, 90, 1, 58, 75, 42, 68, 78, 31, 75, 5, 54, 5, 29, 53, 18, 46, 74, 18, 91, 43, 30, 24, 72, 81, 64, 24, 87, 8, 20, 52, 90, 86, 58, 99, 62, 8, 5, 76, 87, 25, 96, 63, 32, 19, 81, 56, 77, 39, 78, 95, 12, 49, 43, 82, 74, 12, 3, 27, 14, 100, 92, 2, 8, 89, 100, 21, 41, 31, 61, 52, 80, 45, 12, 25, 30, 7, 53, 98, 89, 5, 16, 40, 54, 97, 57, 61, 88, 50, 71, 60, 61, 29, 69, 75, 29, 67, 24, 50, 60, 20, 73, 3, 66, 56, 64, 42, 88, 54, 91, 47, 43, 69, 87, 70, 70, 15, 55, 90, 90, 5, 68, 50, 16, 44, 33, 48, 66, 54, 48, 88, 37, 20, 34, 95, 28, 36, 45, 58, 26, 12, 40, 71, 25, 34, 26, 6, 32, 8, 17, 50, 91, 87, 89, 17, 1, 84, 13, 34, 23, 91, 75, 31, 24, 15, 91, 99, 78, 23, 100, 83, 74, 10, 68, 75, 29, 62, 70, 68, 2, 70, 87, 16, 96, 2, 90, 80, 88, 98, 25, 63, 98, 6, 1, 71, 46, 1, 55, 23, 8, 94, 86, 62, 74, 7, 43, 77, 25, 5, 64, 15, 8, 74, 98, 54, 48, 65, 66, 70, 13, 69, 85, 34, 2, 11, 86, 41, 27, 75, 37, 93, 75, 20, 21, 89, 33, 37, 34, 11, 54, 76, 29, 100, 67, 16, 9, 36, 59, 28, 70, 34, 96, 88, 23, 92, 67, 82, 29, 29, 8, 47, 69, 64, 21, 78, 74, 77, 58, 30]\n",
            "Percentage diffrence betwen first 2 numbers 115.38 %\n",
            "Percentage diffrence betwen last 2 numbers 236.67 %\n",
            "Percentage diffrence betwen middle numbers 1980.0 %\n",
            "Percentage diffrence betwen the sums of the two lists 97.84 %\n"
          ]
        }
      ]
    },
    {
      "cell_type": "markdown",
      "metadata": {
        "id": "HNs3lZmYawFO"
      },
      "source": [
        "---\n",
        "### Exercise 9 - characteristic counts\n",
        "\n",
        "Write a function which will:\n",
        "*  iterate through the `protected_characteristics` tuple and for each **characteristic**:\n",
        "*   *   count the number of occurrences of that `characteristic` in the `characteristics` list\n",
        "*   *   print the `protected_characteristic` and the **count**  \n",
        "\n",
        "Example expected output:\n",
        "\n",
        "age 100  \n",
        "disability 120  \n",
        "gender reassignment 120  \n",
        "marriage and civil partnership 111  \n",
        "pregnancy and maternity 103  \n",
        "race 106  \n",
        "religion or belief 95  \n",
        "sex 110  \n",
        "sexual orientation 113  \n",
        "\n",
        "Extra learning:  you can read [here](https://thispointer.com/python-how-to-pad-strings-with-zero-space-or-some-other-character/) how to justify the printed characteristic so that the output is organised into two columns as shown below:  \n",
        "![tabulated output](https://drive.google.com/uc?id=1CCXfX6K5ZeDefnq7vUsqxCDmqvcfY8Mz)\n",
        "\n",
        "\n",
        "\n"
      ]
    },
    {
      "cell_type": "code",
      "metadata": {
        "id": "GURT11albqUs",
        "colab": {
          "base_uri": "https://localhost:8080/"
        },
        "outputId": "53b58eaa-f87f-4dd9-813f-4fe64cde9f42"
      },
      "source": [
        "def count_characteristic():\n",
        "  heading=\"Protected Characteristics\"\n",
        "  print(heading.ljust(72),\"Frequency\")\n",
        "  for char in protected_characteristics:\n",
        "    print (char.ljust(72),characteristics.count(char))\n",
        "count_characteristic()"
      ],
      "execution_count": null,
      "outputs": [
        {
          "output_type": "stream",
          "name": "stdout",
          "text": [
            "Protected Characteristics                                                Frequency\n",
            "age                                                                      579\n",
            "disability                                                               541\n",
            "gender reassignment                                                      566\n",
            "marriage and civil partnership                                           533\n",
            "pregnancy and maternity                                                  559\n",
            "race                                                                     544\n",
            "religion or belief                                                       548\n",
            "sex                                                                      520\n",
            "sexual orientation                                                       490\n"
          ]
        }
      ]
    },
    {
      "cell_type": "markdown",
      "metadata": {
        "id": "9Po7yQj-ds38"
      },
      "source": [
        "---\n",
        "### Exercise 10 - characteristics statistics\n",
        "\n",
        "Assuming that the `characteristics` list may have been taken from a study of cases that have been taken to court in relation to the Equality Act.  \n",
        "\n",
        "Write a function which will:\n",
        "\n",
        "*   find the most common characteristic resulting in court action, from this population\n",
        "*   print this in a message, e.g. The characteristic with the highest number of court cases is:  *characteristic*\n",
        "*   print the list of `protected_characteristics`, on one line if possible - see [here](https://www.geeksforgeeks.org/g-fact-25-print-single-multiple-variable-python/)\n",
        "*   ask the user to enter a characteristic that they would like to see statistics on and use a while loop to continue until the user has entered a valid characteristic\n",
        "*   print the characteristic, its frequency and the percentage that this frequency is of the whole population."
      ]
    },
    {
      "cell_type": "code",
      "metadata": {
        "id": "uk_I5z7UgbDs",
        "colab": {
          "base_uri": "https://localhost:8080/"
        },
        "outputId": "25421dc1-e9c0-4ffa-ba9b-ada8e415e1f8"
      },
      "source": [
        "def stats():\n",
        "  most_common=protected_characteristics[0]\n",
        "  highest_freq=characteristics.count(most_common)\n",
        "  for char in protected_characteristics:\n",
        "    if characteristics.count(char) >highest_freq:\n",
        "      most_common=char\n",
        "      highest_freq=characteristics.count(char)\n",
        "  print(\"The characteristic with the highest number of court cases is:\",most_common)\n",
        "\n",
        "\n",
        "stats()"
      ],
      "execution_count": null,
      "outputs": [
        {
          "output_type": "stream",
          "name": "stdout",
          "text": [
            "The characteristic with the highest number of court cases is: age\n"
          ]
        }
      ]
    },
    {
      "cell_type": "code",
      "source": [
        ""
      ],
      "metadata": {
        "id": "EahN8PqlqNLL"
      },
      "execution_count": null,
      "outputs": []
    }
  ]
}