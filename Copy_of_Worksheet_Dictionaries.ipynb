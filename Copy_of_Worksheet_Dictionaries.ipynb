{
  "nbformat": 4,
  "nbformat_minor": 0,
  "metadata": {
    "colab": {
      "name": "Copy of Worksheet - Dictionaries.ipynb",
      "provenance": [],
      "collapsed_sections": [],
      "include_colab_link": true
    },
    "kernelspec": {
      "name": "python3",
      "display_name": "Python 3"
    },
    "language_info": {
      "name": "python"
    }
  },
  "cells": [
    {
      "cell_type": "markdown",
      "metadata": {
        "id": "view-in-github",
        "colab_type": "text"
      },
      "source": [
        "<a href=\"https://colab.research.google.com/github/nathw2017/NwPython/blob/main/Copy_of_Worksheet_Dictionaries.ipynb\" target=\"_parent\"><img src=\"https://colab.research.google.com/assets/colab-badge.svg\" alt=\"Open In Colab\"/></a>"
      ]
    },
    {
      "cell_type": "markdown",
      "metadata": {
        "id": "AiiF1h2X4PHP"
      },
      "source": [
        "# Dictionaries\n",
        "\n",
        "---\n",
        "\n",
        "A **dictionary** is a collection of dissimilar data stored together in one *record*. Each item of data has a  (or key) that describes its paired value.  \n",
        "\n",
        "Create a dictionary object by declaring the set of keys and values, e.g.:\n",
        "\n",
        "```\n",
        "   transport = {\n",
        "       \"type\":\"bus\",\n",
        "       \"numPassengers\":72,\n",
        "       \"colour\":\"blue\",\n",
        "       \"fuel\":\"diesel\"\n",
        "   }\n",
        "```\n",
        "\n",
        "To access a value in a dictionary, use its key:  \n",
        "\n",
        "```\n",
        "transport[\"type\"] = \"coach\"\n",
        "transport_type = transport[\"type\"]\n",
        "transport_colour = transport[\"colour\"]\n",
        "transport[\"fuel\"] = petrol\n",
        "```\n",
        "\n",
        "To add a new key/value pair to a dictionary, simply assign a value to a new key:  \n",
        "```\n",
        "transport[\"seats\"] = 54\n",
        "```\n",
        "\n",
        "The transport dictionary will now look like this:  \n",
        "```\n",
        "   transport = {\n",
        "       \"type\":\"bus\",\n",
        "       \"numPassengers\":72,\n",
        "       \"colour\":\"blue\",\n",
        "       \"fuel\":\"diesel\",\n",
        "       \"seats\":54\n",
        "   }\n",
        "```\n",
        "\n"
      ]
    },
    {
      "cell_type": "markdown",
      "metadata": {
        "id": "1uZ5kNWB6CqK"
      },
      "source": [
        "---\n",
        "### Exercise 1 - print dictionary\n",
        "\n",
        "Write a function which will:  \n",
        "\n",
        "*  create an empty dictionary for a person (name, age and postcode, with values \"\", 0 and \"\")\n",
        "*  ask the user for name, age and postcode and assign the values to the correct keys in the dictionary  \n",
        "*  print the dictionary\n",
        "\n",
        "Test input:  \n",
        "Jack Jones  \n",
        "16  \n",
        "AB5 3DF  \n",
        "\n",
        "Expected output:  \n",
        "```{'name':'Jack Jones', 'age':16, 'postcode':'AB5 3DF'}```"
      ]
    },
    {
      "cell_type": "code",
      "metadata": {
        "id": "Ac7VQTj94Mrc",
        "colab": {
          "base_uri": "https://localhost:8080/"
        },
        "outputId": "3aa8275a-d330-4f07-fb32-e49130bc7ed3"
      },
      "source": [
        "def p_dictionary():\n",
        "  person={\n",
        "      \"Name\":\"\",\n",
        "      \"Age\":\"\",\n",
        "      \"Postcode\":\"\"\n",
        "  }\n",
        "  name_i=input(\"Enter name: \")\n",
        "  person[\"Name\"] = name_i\n",
        "  age_i=int(input(\"Enter Age: \"))\n",
        "  person[\"Age\"] = age_i\n",
        "  postcode_i=input(\"Enter Postcode: \")\n",
        "  person[\"Postcode\"] = postcode_i\n",
        "  print(person)\n",
        "p_dictionary()"
      ],
      "execution_count": null,
      "outputs": [
        {
          "output_type": "stream",
          "name": "stdout",
          "text": [
            "Enter name: Jack Jones\n",
            "Enter Age: 16\n",
            "Enter Postcode: AB5 3DF\n",
            "{'Name': 'Jack Jones', 'Age': 16, 'Postcode': 'AB5 3DF'}\n"
          ]
        }
      ]
    },
    {
      "cell_type": "markdown",
      "metadata": {
        "id": "0OtNqNKv7WKm"
      },
      "source": [
        "---\n",
        "### Exercise 2 - create a dictionary\n",
        "\n",
        "Write a function that will create two dictionaries,without values:  \n",
        "\n",
        "1.  person (with keys firstname, surname, birthdate, postcode)  \n",
        "2.  car (with key/value pairs as follows:  make - Vauxhall, model - Corsa, engineSize - 1199, fuelType - unleaded, num_doors - 4)  \n",
        "\n",
        "*   ask the user to enter the values for the person dictionary  \n",
        "*   print, on one line, the person's name from the person dictionary and the make of the car from the car dictionary.\n",
        "\n",
        "Test input:  \n",
        "Jack  \n",
        "Jones  \n",
        "2005/02/02    \n",
        "AB5 3DF  \n",
        "\n",
        "Expected output:  \n",
        "Jack Jones Vauxhall"
      ]
    },
    {
      "cell_type": "code",
      "metadata": {
        "id": "ZyqhaBCC-GdI",
        "colab": {
          "base_uri": "https://localhost:8080/"
        },
        "outputId": "cbdadc6f-493d-41ae-b9a0-520092ba168d"
      },
      "source": [
        "def persons_car():\n",
        "  person={\n",
        "      \"Firstname\":\"\",\n",
        "      \"Surname\":\"\",\n",
        "      \"Birthday\":\"\",\n",
        "      \"Postcode\":\"\"\n",
        "  }\n",
        "  car={\n",
        "      \"Make\":\"Vauxhall\",\n",
        "      \"Model\":\"Corsa\",\n",
        "      \"engineSize\":1199,\n",
        "      \"fuelType\":\"unleaded\",\n",
        "      \"num_doors\":4\n",
        "  }\n",
        "  name_i=input(\"Enter first name: \")\n",
        "  person[\"Firstname\"] = name_i\n",
        "  surname_i=input(\"Enter surname: \")\n",
        "  person[\"Surname\"] = surname_i\n",
        "  birthday_i=input(\"Enter Birthday YYYY/MM/DD: \")\n",
        "  person[\"Birthday\"] = birthday_i\n",
        "  postcode_i=input(\"Enter Postcode: \")\n",
        "  person[\"Postcode\"] = postcode_i\n",
        "\n",
        "  print(person[\"Firstname\"],person[\"Surname\"],car[\"Make\"])\n",
        "persons_car()  "
      ],
      "execution_count": null,
      "outputs": [
        {
          "output_type": "stream",
          "name": "stdout",
          "text": [
            "Enter first name: Jack\n",
            "Enter surname: Jones\n",
            "Enter Birthday YYYY/MM/DD: 2005/02/02\n",
            "Enter Postcode: AB5 3DF\n",
            "Jack Jones Vauxhall\n"
          ]
        }
      ]
    },
    {
      "cell_type": "markdown",
      "metadata": {
        "id": "gYuuOUYw-G4I"
      },
      "source": [
        "---\n",
        "### Exercise 3 - check dictionary values\n",
        "\n",
        "Write a new function which will:\n",
        "\n",
        "*  set up the same two dictionaries as in Exercise 2  \n",
        "*  ask the user to enter the details to complete the person record  \n",
        "*  calculate the person's age  \n",
        "*  if the person is under 17 then print a message to say that they can't buy a car as they are too young to drive\n",
        "*  else if the person is under 25 then print a message to say that an engine size under 1200 is recommended  \n",
        "*  ask the user to enter the make of car that the person is looking for  \n",
        "*  if the user enters the same make as that stored in the car record, then print a message to say that you have one car of that make in stock and print all the details of the car that you have the record for\n",
        "*  else (if the user enters any other car make) then print a message to say sorry that you don't have any cars of that make in stock\n",
        "*  print a message to say that the user can get more details for stockist in the <user's postcode> area if they call 01234567890\n",
        "*  print a message to say \"Thank you <user's name> for using our site\"  \n",
        "\n",
        "Test input:  \n",
        "Jack  \n",
        "Jones  \n",
        "2005/02/02  \n",
        "AB5 3DF  \n",
        "Vauxhall  \n",
        "\n",
        "Expected output:  \n",
        "You are too young to drive\n",
        "\n",
        "Test input:  \n",
        "John  \n",
        "Jones  \n",
        "2003/02/02  \n",
        "AB5 3DF  \n",
        "Vauxhall \n",
        "\n",
        "Expected output:  \n",
        "An engine size under 1200 is recommended  \n",
        "We have one Vauxhall in stock, details:  \n",
        "Make - Vauxhall    \n",
        "Model - Corsa    \n",
        "Engine size - 1199  \n",
        "Fuel type - unleaded   \n",
        "Number of doors - 4  \n",
        "You can get more details of stockists near AB5 3DF on 01234567890  \n",
        "Thank you John Jones for using our site.     \n",
        "\n",
        "Test input:  \n",
        "John  \n",
        "Jones  \n",
        "2003/02/02  \n",
        "AB5 3DF  \n",
        "Ford  \n",
        "\n",
        "Expected output:  \n",
        "An engine size under 1200 is recommended  \n",
        "Sorry, we don't have any of that make in stock  \n"
      ]
    },
    {
      "cell_type": "code",
      "metadata": {
        "id": "Wp9Il2JG_hDh",
        "colab": {
          "base_uri": "https://localhost:8080/"
        },
        "outputId": "0d3765cc-61ea-4fe8-e15b-125316bf9648"
      },
      "source": [
        "def stockists():\n",
        "  person={\n",
        "      \"Firstname\":\"\",\n",
        "      \"Surname\":\"\",\n",
        "      \"Date\":\"\",\n",
        "      \"Month\":\"\",\n",
        "      \"Year\":\"\",\n",
        "      \"Postcode\":\"\"\n",
        "  }\n",
        "  car={\n",
        "      \"Make\":\"Vauxhall\",\n",
        "      \"Model\":\"Corsa\",\n",
        "      \"engineSize\":1199,\n",
        "      \"fuelType\":\"unleaded\",\n",
        "      \"num_doors\":4\n",
        "  }\n",
        "  #Input of Customers Details\n",
        "  name_i=input(\"Enter first name: \")\n",
        "  person[\"Firstname\"] = name_i\n",
        "  surname_i=input(\"Enter surname: \")\n",
        "  person[\"Surname\"] = surname_i\n",
        "  #Birthday Input\n",
        "  birthday_day_i=input(\"Enter Birthday date: \")\n",
        "  person[\"Day\"] = birthday_day_i\n",
        "  birthday_day_i=input(\"Enter Birthday month: \")\n",
        "  person[\"Month\"] = birthday_day_i\n",
        "  birthday_year_i=input(\"Enter Birthday year: \")\n",
        "  person[\"Year\"] = birthday_year_i\n",
        "  #Check to see if under 17\n",
        "  if int(person[\"Year\"]) <=2005:\n",
        "  #Postcode Entered\n",
        "    postcode_i=input(\"Enter Postcode: \")\n",
        "    person[\"Postcode\"] = postcode_i\n",
        "  #Car Input\n",
        "    car_m=input(\"Enter car model: \")\n",
        "  #Engine size for under 25 details\n",
        "    if int(person[\"Year\"]) <=2009 and car_m == car[\"Make\"]:\n",
        "      print(\"An engine size under 1200 is recommended\")\n",
        "      print(\"We have one Vauxhall in stock\")\n",
        "    for key, value in car.items():\n",
        "      print(key, ' : ', value)\n",
        "      print(\"You can get more details of stockists near \",person[\"Postcode\"],\"on 01234567890\")\n",
        "      print(\"Thank you\",person[\"Firstname\"],person[\"Surname\"],\"for using our site.\")\n",
        "  #Car entered doesnt match and under 25  \n",
        "    if car_m != car[\"Make\"] and int(person[\"Year\"]) <=2009:\n",
        "      print(\"An engine size under 1200 is recommended\")\n",
        "      print(\"Sorry, we don't have any of that make in stock\")\n",
        "  #Car entered doesnt match and over 25   \n",
        "    if car_m != car[\"Make\"]and int(person[\"Year\"]) >=2010:\n",
        "      print(\"Sorry, we don't have any of that make in stock\")\n",
        "  #For Under 17\n",
        "  else:\n",
        "    print(\"You are too young to drive\")\n",
        "stockists()"
      ],
      "execution_count": null,
      "outputs": [
        {
          "output_type": "stream",
          "name": "stdout",
          "text": [
            "Enter first name: Nathan\n",
            "Enter surname: Wyatt\n",
            "Enter Birthday date: 16\n",
            "Enter Birthday month: 08\n",
            "Enter Birthday year: 2006\n",
            "You are too young to drive\n"
          ]
        }
      ]
    },
    {
      "cell_type": "markdown",
      "metadata": {
        "id": "I6dUiRwn7Gkg"
      },
      "source": [
        "---\n",
        "### Exercise 4 - print keys and values\n",
        "\n",
        "Two dictionaries have been created below.  You can print a list of the dictionary's keys using `dictionary_name.keys()` and the values using `dictionary_name.values()`\n",
        "\n",
        "Write a function which will accept a dictionary as a parameter and will:  \n",
        "*  print the dictionary keys as a list   \n",
        "*  print the dictionary values as a list  \n",
        "\n",
        "*Hint*:  you will need to cast the keys as a list (`list(dictionary_name.keys()`)  and do the same for the values.\n",
        "\n",
        "**Expected Output**\n",
        "\n",
        "Input: English  \n",
        "Output: \n",
        "['Andy', 'Angela']  \n",
        "[95, 53]  \n",
        "\n",
        "Input: Maths  \n",
        "Output:  \n",
        "['Andy', 'Angela']  \n",
        "[58, 72] \n",
        " \n",
        "\n",
        "\n"
      ]
    },
    {
      "cell_type": "code",
      "metadata": {
        "id": "FApOckhJEsMs",
        "colab": {
          "base_uri": "https://localhost:8080/"
        },
        "outputId": "685c4cbe-c319-41c4-df62-5cd2973368ed"
      },
      "source": [
        "def display_dictionary(scores):\n",
        "  #  add your code below this line\n",
        "    print(list(scores.keys()),list(scores.values()))\n",
        "english_scores = {'Andy': 95, 'Angela': 53}\n",
        "maths_scores = {'Andy': 58, 'Angela': 72}\n",
        "display_dictionary(english_scores)\n",
        "display_dictionary(maths_scores)"
      ],
      "execution_count": null,
      "outputs": [
        {
          "output_type": "stream",
          "name": "stdout",
          "text": [
            "['Andy', 'Angela'] [95, 53]\n",
            "['Andy', 'Angela'] [58, 72]\n"
          ]
        }
      ]
    },
    {
      "cell_type": "markdown",
      "metadata": {
        "id": "segSpkmBFSJl"
      },
      "source": [
        "---\n",
        "### Exercise 5 - add field\n",
        "\n",
        "Write a function which will:\n",
        "\n",
        "*  create a new dictionary called **science_scores** with values of 0 for both Andy and Angela\n",
        "*  update Andy's score for science to 73 and Angela's score to 73   \n",
        "*  create a new key/value pair by adding another learner to the `science_scores`  dictionary (George has a score of 55)    \n",
        "*  print the `science_scores` dictionary to check results  \n",
        "\n",
        "Expected Output\n",
        "\n",
        "{'Andy': 73, 'Angela': 73, 'George': 55}"
      ]
    },
    {
      "cell_type": "code",
      "metadata": {
        "id": "BL1JM-Z7Gttf",
        "colab": {
          "base_uri": "https://localhost:8080/"
        },
        "outputId": "07ce2ba4-4a80-4ad2-d132-14e9c57b935a"
      },
      "source": [
        "def display_dictionary(scores):\n",
        "  #  add your code below this line\n",
        "    science_scores.update({\"Andy\":\"73\"})\n",
        "    science_scores.update({\"Angela\":\"73\"})\n",
        "    science_scores.update({\"George\":\"55\"})\n",
        "    print(scores)\n",
        "\n",
        "science_scores={'Andy': 0 ,'Angela': 0}  \n",
        "english_scores = {'Andy': 95, 'Angela': 53}  \n",
        "maths_scores = {'Andy': 58, 'Angela': 72}\n",
        "display_dictionary(science_scores)"
      ],
      "execution_count": null,
      "outputs": [
        {
          "output_type": "stream",
          "name": "stdout",
          "text": [
            "{'Andy': '73', 'Angela': '73', 'George': '55'}\n"
          ]
        }
      ]
    },
    {
      "cell_type": "markdown",
      "metadata": {
        "id": "_Vzv0zlHGt-C"
      },
      "source": [
        "---\n",
        "### Exercise 6 - loop through keys/value pairs\n",
        "\n",
        "Write a function which will use a *for* loop to print the each key/value pair in the science dictionary (recreate this dictionary in this function) \n",
        "\n",
        "*(Hint: you can iterate through the key/value pairs in the dictionary in the same way as you iterate through a loop (e.g. for record in dictionary) and print the record (which is the key) and its value)*\n",
        "\n",
        "Expected output:  \n",
        "\n",
        "Angela 72  \n",
        "Andy 72  \n",
        "George 55  "
      ]
    },
    {
      "cell_type": "code",
      "metadata": {
        "id": "JL40_-W-Hxnt",
        "colab": {
          "base_uri": "https://localhost:8080/"
        },
        "outputId": "900207dd-f789-4e74-ac14-a306f975778e"
      },
      "source": [
        "def display_dictionary(scores):\n",
        "  for key, value in scores.items():\n",
        "    print(key,value) \n",
        "\n",
        "\n",
        "science_scores={'Andy': 72 ,'Angela': 72,\"George\":55 }  \n",
        "display_dictionary(science_scores)"
      ],
      "execution_count": null,
      "outputs": [
        {
          "output_type": "stream",
          "name": "stdout",
          "text": [
            "Andy 72\n",
            "Angela 72\n",
            "George 55\n"
          ]
        }
      ]
    },
    {
      "cell_type": "markdown",
      "metadata": {
        "id": "G9wamxzRJdrE"
      },
      "source": [
        "---\n",
        "### Exercise 7 - generate new dictionary  \n",
        "\n",
        "Write a functions which will:\n",
        "*  create a new dictionary where the keys are numbers between 1 and 15 (both included) and the values are square of keys\n",
        "*  print the dictionary\n",
        "\n",
        "Expected output:  \n",
        "{1: 1, 2: 4, 3: 9, 4: 16, 5: 25, 6: 36, 7: 49, 8: 64, 9: 81, 10: 100, 11: 121, 12: 144, 13: 169, 14: 196, 15: 225}"
      ]
    },
    {
      "cell_type": "code",
      "metadata": {
        "id": "1-LI-LVrJ--N",
        "colab": {
          "base_uri": "https://localhost:8080/"
        },
        "outputId": "f6bd9f12-6c49-41e9-f620-37da95c5e2de"
      },
      "source": [
        "def new_dict():\n",
        "  square_n={}\n",
        "  for i in range(1,15+1):\n",
        "    square_n[i] = i**2\n",
        "\n",
        "  print(square_n)\n",
        "new_dict()  "
      ],
      "execution_count": 11,
      "outputs": [
        {
          "output_type": "stream",
          "name": "stdout",
          "text": [
            "{1: 1, 2: 4, 3: 9, 4: 16, 5: 25, 6: 36, 7: 49, 8: 64, 9: 81, 10: 100, 11: 121, 12: 144, 13: 169, 14: 196, 15: 225}\n"
          ]
        }
      ]
    },
    {
      "cell_type": "markdown",
      "metadata": {
        "id": "t0y4mefwJ_jQ"
      },
      "source": [
        "---\n",
        "### Exercise 8 - colour dictionary  \n",
        "\n",
        "Write a function which will:  \n",
        "*  create a new dictionary record called colour_codes with the values 'red' - '#FF0000', 'green' - '#008000', 'black' - '#000000', 'white' - '#FFFFFF'\n",
        "*  add a new colour code:  'blue' - '#0000FF'    \n",
        "*  remove the colours black and white from the dictionary  \n",
        "\n",
        "*Hint:  there is a list of methods [here](https://www.w3schools.com/python/python_ref_dictionary.asp)*  "
      ]
    },
    {
      "cell_type": "code",
      "metadata": {
        "id": "yod1mUNOMeWg",
        "colab": {
          "base_uri": "https://localhost:8080/"
        },
        "outputId": "8d59f527-4a43-4464-e338-4fab7ce62d0b"
      },
      "source": [
        "def colour():\n",
        "  colour_codes={'Red':'#FF0000', 'Green':'#008000', 'Black':'#000000', 'White':'#FFFFFF'}\n",
        "  colour_codes.update({'Blue':'#0000FF'})\n",
        "  colour_codes.pop('Black','#000000')\n",
        "  colour_codes.pop('White','#FFFFFF')\n",
        "  print(colour_codes)\n",
        "colour()"
      ],
      "execution_count": null,
      "outputs": [
        {
          "output_type": "stream",
          "name": "stdout",
          "text": [
            "{'Red': '#FF0000', 'Green': '#008000', 'Blue': '#0000FF'}\n"
          ]
        }
      ]
    },
    {
      "cell_type": "markdown",
      "metadata": {
        "id": "gjos_0vuMeyS"
      },
      "source": [
        "---\n",
        "### Exercise 9 - item tuples  \n",
        "\n",
        "Write a function which will:  \n",
        "*  create a new dictionary containing the colour codes for red, green, blue, black and white\n",
        "*  print the key/value pairs of a dictionary as a list of tuples  \n",
        "\n",
        "*Hint:  iterate through colours.items()*"
      ]
    },
    {
      "cell_type": "code",
      "metadata": {
        "id": "EzuMkUypOKTY",
        "colab": {
          "base_uri": "https://localhost:8080/"
        },
        "outputId": "a2e713ab-bc03-46eb-e211-95c64ff07d13"
      },
      "source": [
        "def colour_tuples():\n",
        "  colour_codes={'Red':'#FF0000', 'Green':'#008000', 'Blue':'#0000FF','Black':'#000000', 'White':'#FFFFFF'}\n",
        "  list_colours=[]\n",
        "  for i in colour_codes:\n",
        "    l_colour=(i,colour_codes[i])\n",
        "    list_colours.append(l_colour)\n",
        "  print(list_colours)\n",
        "colour_tuples()"
      ],
      "execution_count": 18,
      "outputs": [
        {
          "output_type": "stream",
          "name": "stdout",
          "text": [
            "[('Red', '#FF0000'), ('Green', '#008000'), ('Blue', '#0000FF'), ('Black', '#000000'), ('White', '#FFFFFF')]\n"
          ]
        }
      ]
    },
    {
      "cell_type": "markdown",
      "metadata": {
        "id": "Jw1ot10cOc6r"
      },
      "source": [
        "---\n",
        "### Exercise 10 - check if empty\n",
        "Taken from w3resouce.com  \n",
        "\n",
        "Write a function which will check if a dictionary is empty or not\n",
        "\n",
        "*Hint:  you can use bool(dictionary_name), if the dictionary is empty then bool(dictionary_name will be false)*\n",
        "\n",
        "Test 1 sample data:\n",
        "{}\n",
        "\n",
        "Expected output:\n",
        "Dictionary is empty  \n",
        "\n",
        "Test 2 sample data:  \n",
        "{\"name\":\"Groucho\", \"occupation\":\"comedian\"}\n",
        "\n",
        "Expected output:  \n",
        "Dictionary is not empty"
      ]
    },
    {
      "cell_type": "code",
      "metadata": {
        "id": "7UdM1TfwRqnt",
        "colab": {
          "base_uri": "https://localhost:8080/"
        },
        "outputId": "859a1c78-2fa4-44ad-a81d-d9db87c965aa"
      },
      "source": [
        "def dic_empty():\n",
        "  sample_data={\"name\":\"Groucho\", \"occupation\":\"comedian\"}\n",
        "  data=bool(sample_data)\n",
        "  if data == False:\n",
        "    print(\"Dictionary is empty\")\n",
        "  else:\n",
        "    print(\"Dictionary is not empty\")\n",
        "  \n",
        "dic_empty()"
      ],
      "execution_count": null,
      "outputs": [
        {
          "output_type": "stream",
          "name": "stdout",
          "text": [
            "Dictionary is not empty\n"
          ]
        }
      ]
    }
  ]
}