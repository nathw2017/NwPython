{
  "nbformat": 4,
  "nbformat_minor": 0,
  "metadata": {
    "colab": {
      "name": "Copy of Functions1.ipynb",
      "provenance": [],
      "collapsed_sections": [],
      "include_colab_link": true
    },
    "kernelspec": {
      "name": "python3",
      "display_name": "Python 3"
    },
    "language_info": {
      "name": "python"
    }
  },
  "cells": [
    {
      "cell_type": "markdown",
      "metadata": {
        "id": "view-in-github",
        "colab_type": "text"
      },
      "source": [
        "<a href=\"https://colab.research.google.com/github/nathw2017/NwPython/blob/main/Copy_of_Functions1.ipynb\" target=\"_parent\"><img src=\"https://colab.research.google.com/assets/colab-badge.svg\" alt=\"Open In Colab\"/></a>"
      ]
    },
    {
      "cell_type": "markdown",
      "metadata": {
        "id": "0T-HIDf3FgQK"
      },
      "source": [
        "# Python functions\n",
        "\n",
        "---"
      ]
    },
    {
      "cell_type": "markdown",
      "metadata": {
        "id": "YM-csYt5FrvE"
      },
      "source": [
        "You have already been using functions that are provided with Python  \n",
        "*  print()\n",
        "*  input()\n",
        "*  randint() *(from random)*\n",
        "\n",
        "You can tell that they are functions because they have brackets after the name. Often there is some data in the brackets (ie something that you want the function to use on this occasion)\n",
        "\n",
        "*  print(\"Hello\")\n",
        "*  input(\"What is your name? \")\n",
        "*  randint(1,6) *(from the random function library)*\n",
        "\n",
        "The data is called a *parameter* or an *argument*.  There can be any number of parameters passed to a function.  Order is important but can sometimes be overridden.\n",
        "\n",
        "Some functions just do something (e.g. print(\"Hello\") will just print the word Hello)..  \n",
        "\n",
        "Other functions produce some new data which you will assign to a variable:  \n",
        "```\n",
        "name = input(\"What is your name? \")  \n",
        "dice_roll = randint(1,6)\n",
        "```\n",
        "\n",
        "Each time you use a function's name in your program, or in another function, you are calling it and it will run.\n",
        "\n"
      ]
    },
    {
      "cell_type": "markdown",
      "metadata": {
        "id": "Gzod-awDOrGj"
      },
      "source": [
        "---\n",
        "### Exercise 1 - len() of a string\n",
        "\n",
        "Write a function called **get_password()** which will get a password of 8 characters:  \n",
        "\n",
        "*  assign the value \"\" to a variable called **password**  \n",
        "*  start a while loop that will continue to loop while the length of `password` is not 8 characters    \n",
        "*  in the loop:  ask the user to enter a `password`\n",
        "*  after the loop, return the password to the calling program, which will print the valid password.  \n",
        "\n",
        "Test input:  \n",
        "abddgejkfjkl   \n",
        "999999999  \n",
        "ABCDEFH   \n",
        "\n",
        "Expected output:  \n",
        "ABCDEFGH  "
      ]
    },
    {
      "cell_type": "code",
      "metadata": {
        "id": "VC1h1g3cFb11"
      },
      "source": [
        "def get_password():\n",
        "  # add your code below here\n",
        "  password=\"\"\n",
        "  valid=False\n",
        "  while valid==False:\n",
        "    password=input(\"Enter password: \")\n",
        "    if len(password) !=8:\n",
        "      valid==False\n",
        "    else:\n",
        "      valid==True\n",
        "      return password\n",
        "print(get_password())"
      ],
      "execution_count": null,
      "outputs": []
    },
    {
      "cell_type": "markdown",
      "metadata": {
        "id": "pTC1HwRUQMSa"
      },
      "source": [
        "---\n",
        "### Exercise 2 - capitalise username\n",
        "\n",
        "Write a function called **get_username()** which will:  \n",
        "\n",
        "*  ask the user for a **username**  \n",
        "*  convert the `username` to upper case and assign the new value to a variable called **username_upper**   \n",
        "* if `username_upper` is \"ADMINUSER1\" then return \"Valid user\", otherwise return \"Invalid username\".  The calling program will print the message.  \n",
        "\n",
        "Test input:  \n",
        "admin\n",
        "\n",
        "Expected output:  \n",
        "Invalid username\n",
        "\n",
        "Test input:  \n",
        "AdminUser1\n",
        "\n",
        "Expected output:  \n",
        "Valid user  \n"
      ]
    },
    {
      "cell_type": "code",
      "metadata": {
        "id": "0vusDz8YQMdB",
        "colab": {
          "base_uri": "https://localhost:8080/"
        },
        "outputId": "7354aafc-c123-4d2f-c12a-e16701d479c8"
      },
      "source": [
        "def get_username():\n",
        "  # add your code below here\n",
        "  username=input(\"Enter username: \")\n",
        "  username_upper=username.upper()\n",
        "  if username_upper !=\"ADMINUSER1\":\n",
        "    return \"Invaild Username\"\n",
        "  else:\n",
        "    return \"Valid Username\"\n",
        "print(get_username())"
      ],
      "execution_count": null,
      "outputs": [
        {
          "output_type": "stream",
          "name": "stdout",
          "text": [
            "Enter usernameAdminUser1\n",
            "Valid Username\n"
          ]
        }
      ]
    },
    {
      "cell_type": "markdown",
      "metadata": {
        "id": "SUcNgc6bRfha"
      },
      "source": [
        "---\n",
        "### Exercise 3 - select correct message\n",
        "\n",
        "Write a function called **get_credentials()** which will:  \n",
        "\n",
        "*  ask the user for a **username**  \n",
        "*  ask the user for a **password**  \n",
        "*  return one of the following messages:\n",
        "*  *  \"Credentials accepted\"  \n",
        "*  *  \"Invalid user\"  \n",
        "*  *  \"Password too short\"  \n",
        "\n",
        "Note:  `username` must be \"AdminUser1\" and the password must be at least 8 characters.  The calling program will print the message.  \n",
        "\n",
        "Test input:  \n",
        "AdminUser1\n",
        "abc999def\n",
        "\n",
        "Expected output:  \n",
        "Credentials accepted\n",
        "\n",
        "Test input:  \n",
        "AdminUser1\n",
        "abc\n",
        "\n",
        "Expected output:  \n",
        "Password too short  \n",
        "\n",
        "Test input:  \n",
        "User1\n",
        "abc999def\n",
        "\n",
        "Expected output:  \n",
        "Invalid user  "
      ]
    },
    {
      "cell_type": "code",
      "metadata": {
        "id": "GUjr6u9sRfrh",
        "colab": {
          "base_uri": "https://localhost:8080/"
        },
        "outputId": "a25809c6-c75c-4606-b123-d1858a725373"
      },
      "source": [
        "def get_credentials():\n",
        "  username=input(\"Enter Username: \")\n",
        "  password=input(\"Enter password: \")\n",
        "  valid=False\n",
        "  if username==\"AdminUser1\" and len(password)==8:\n",
        "    print(\"Credentials accepted\")\n",
        "  elif username !=\"AdminUser1\":\n",
        "    print(\"Invalid User\")\n",
        "  elif len(password) <8:\n",
        "    print(\"Password too short\")\n",
        "get_credentials()"
      ],
      "execution_count": null,
      "outputs": [
        {
          "output_type": "stream",
          "name": "stdout",
          "text": [
            "Enter Username: AdminUser1\n",
            "Enter password: 123454\n",
            "Password too short\n"
          ]
        }
      ]
    },
    {
      "cell_type": "markdown",
      "metadata": {
        "id": "oVIw8G_FTWoS"
      },
      "source": [
        "---\n",
        "### Exercise 3 - round to given dp\n",
        "\n",
        "Write a function called **get_rounded_float()** which will:  \n",
        "\n",
        "*  ask the user for a decimal **number**  \n",
        "*  ask the user for a number of **places** to round to  \n",
        "*  return the number rounded to the requested number of decimal places\n",
        "\n",
        "Note:  The calling program will print the number.  \n",
        "\n",
        "Test input:  \n",
        "3.14159  \n",
        "2\n",
        "\n",
        "Expected output:  \n",
        "3.14  \n",
        "\n",
        "Test input:  \n",
        "98.6666666666666  \n",
        "4  \n",
        "\n",
        "Expected output:  \n",
        "98.6667  "
      ]
    },
    {
      "cell_type": "code",
      "metadata": {
        "id": "AHKffkJbTWxS",
        "colab": {
          "base_uri": "https://localhost:8080/"
        },
        "outputId": "36a06174-a647-4492-bb90-9bc5d774b023"
      },
      "source": [
        "def get_rounded_float():\n",
        "  decimal_number=float(input(\"Enter decimal number: \"))\n",
        "  r_places=int(input(\"Enter number of places to round: \"))\n",
        "  rounded_number=round(decimal_number,r_places)\n",
        "  return rounded_number\n",
        "get_rounded_float()"
      ],
      "execution_count": null,
      "outputs": [
        {
          "name": "stdout",
          "output_type": "stream",
          "text": [
            "Enter decimal number: 3.14159\n",
            "Enter number of places to round: 2\n"
          ]
        },
        {
          "output_type": "execute_result",
          "data": {
            "text/plain": [
              "3.14"
            ]
          },
          "metadata": {},
          "execution_count": 81
        }
      ]
    },
    {
      "cell_type": "markdown",
      "metadata": {
        "id": "x4Nl2CQ3T9Aj"
      },
      "source": [
        "---\n",
        "### Exercise 4 - round or not\n",
        "\n",
        "Write a function called **get_rounded_float()** which will:  \n",
        "\n",
        "*  ask the user for a decimal **number**  \n",
        "*  ask the user if they would like to round the number (Y or N) assign this value to **round_number**\n",
        "*  if `round_number` is \"Y\", then ask the user for a number of **places** to round to and return the number rounded to the required number of decimal places  \n",
        "*  otherwise, return the number as it was typed in\n",
        "\n",
        "Note:  The calling program will print the number.  \n",
        "\n",
        "Test input:  \n",
        "3.14159  \n",
        "Y  \n",
        "3\n",
        "\n",
        "Expected output:  \n",
        "3.142\n",
        "\n",
        "Test input:  \n",
        "98.6666666666666  \n",
        "N\n",
        "\n",
        "Expected output:  \n",
        "98.6666666666666  "
      ]
    },
    {
      "cell_type": "code",
      "metadata": {
        "id": "kzLHRud6T9Lo"
      },
      "source": [
        "def get_rounded_float():\n",
        "  decimal_number=float(input(\"Enter decimal number: \"))\n",
        "  round_number=input(\"Would like to round the number Y or N: \")\n",
        "  if round_number == \"Y\":\n",
        "    r_places=int(input(\"Enter number of places to round: \"))\n",
        "    rounded_number=round(decimal_number,r_places)\n",
        "    return rounded_number\n",
        "  else:\n",
        "    return decimal_number\n",
        "get_rounded_float()"
      ],
      "execution_count": null,
      "outputs": []
    },
    {
      "cell_type": "markdown",
      "metadata": {
        "id": "o2Hl9tOFVA17"
      },
      "source": [
        "---\n",
        "### Exercise 5 - random number and places\n",
        "\n",
        "Write a function called **generate_rounded_float()** which will:  \n",
        "\n",
        "*  import the functions uniform and randint from random (from random import uniform, randint)    \n",
        "Note *: the uniform function will generate a random float between two given boundary numbers ( e.g. number = uniform(10,20)).  It is better practice to name the functions you will be using from a library rather than importing the whole library, which could be large*  \n",
        "\n",
        "*  generate a random decimal **number** between 1 and 10   \n",
        "*  print the `number`   \n",
        "*  generate a random integer **places** between 1 and 4\n",
        "*  print `places`\n",
        "*  return the `number` rounded to the given number of `places`\n",
        "\n",
        "Note:  The calling program will print the number.  \n",
        "\n",
        "Example input:  \n",
        "3.14159  \n",
        "Y  \n",
        "3\n",
        "\n",
        "Expected output:  \n",
        "3.142\n",
        "\n",
        "Test input:  \n",
        "98.6666666666666  \n",
        "N\n",
        "\n",
        "Expected output:  \n",
        "98.6666666666666 "
      ]
    },
    {
      "cell_type": "code",
      "metadata": {
        "id": "c5ufi-U-VBB5",
        "colab": {
          "base_uri": "https://localhost:8080/"
        },
        "outputId": "5f92548d-86c5-4792-ec66-11c44b776790"
      },
      "source": [
        "from random import uniform, randint\n",
        "def generate_rounded_float():\n",
        "  decimal_n=uniform(1,10)\n",
        "  places=randint(1,4)\n",
        "  print (\"Decimal:\",decimal_n)\n",
        "  print (\"Number of places:\",places)\n",
        "  rounded_n=round(decimal_n,places)\n",
        "  print (\"Rounded:\",rounded_n)\n",
        "generate_rounded_float()"
      ],
      "execution_count": 104,
      "outputs": [
        {
          "output_type": "stream",
          "name": "stdout",
          "text": [
            "Decimal: 3.4805589755704696\n",
            "Number of places: 4\n",
            "Rounded: 3.4806\n"
          ]
        }
      ]
    }
  ]
}