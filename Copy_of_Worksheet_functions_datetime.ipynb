{
  "nbformat": 4,
  "nbformat_minor": 0,
  "metadata": {
    "colab": {
      "name": "Copy of Worksheet-functions-datetime.ipynb",
      "provenance": [],
      "collapsed_sections": [],
      "include_colab_link": true
    },
    "kernelspec": {
      "name": "python3",
      "display_name": "Python 3"
    },
    "language_info": {
      "name": "python"
    }
  },
  "cells": [
    {
      "cell_type": "markdown",
      "metadata": {
        "id": "view-in-github",
        "colab_type": "text"
      },
      "source": [
        "<a href=\"https://colab.research.google.com/github/nathw2017/NwPython/blob/main/Copy_of_Worksheet_functions_datetime.ipynb\" target=\"_parent\"><img src=\"https://colab.research.google.com/assets/colab-badge.svg\" alt=\"Open In Colab\"/></a>"
      ]
    },
    {
      "cell_type": "markdown",
      "metadata": {
        "id": "7iQyKP-SQiw1"
      },
      "source": [
        "# User-defined functions using datetime library\n",
        "\n",
        "---\n"
      ]
    },
    {
      "cell_type": "markdown",
      "metadata": {
        "id": "Vi93h5I4QnKs"
      },
      "source": [
        "When working with dates and times, fairly common in data sets, we need to be able to extract certain bits of information.  \n",
        "\n",
        "In Python, as with other languages, dates and times are stored in a data structure that combines the two together and stores the information as a number of seconds since a start point (often 1st January 1900).  This is obviously a large number but every bit of information about a date can be extracted from it and used to give a wide range of information.  \n",
        "\n",
        "Have a go at the exercises below to use a selection of datetime functions and return a new bit of data from each, to be printed by the caller.\n",
        "\n",
        "Before you can use datetime functions you will need to import them. Import the datetime functions like this:\n",
        "\n",
        "`from datetime import datetime`  \n",
        "\n",
        "\n",
        "For more information about datetime functions visit [w3Schools-Python datetime](https://www.w3schools.com/python/python_datetime.asp) and [Python docs](https://docs.python.org/3/library/datetime.html)"
      ]
    },
    {
      "cell_type": "markdown",
      "metadata": {
        "id": "MIDLi7CNR034"
      },
      "source": [
        "---\n",
        "### Exercise 1 - print current date and time\n",
        "\n",
        "Write a function that will return the date and time now.  The caller will print it.  \n",
        "\n",
        "*Hint:  the format has been added for you, the other exercises will follow a similar format.   Always remember to import datetime from datetime as shown below*"
      ]
    },
    {
      "cell_type": "code",
      "metadata": {
        "id": "gS6GJdXbQfHp",
        "colab": {
          "base_uri": "https://localhost:8080/"
        },
        "outputId": "8b00cddb-077b-4a93-9af9-bc9722e2f9f2"
      },
      "source": [
        "from datetime import datetime, timezone\n",
        "def get_datetime_now():\n",
        "  now_date_time = datetime.now()\n",
        "  return now_date_time\n",
        "print(get_datetime_now())\n"
      ],
      "execution_count": 218,
      "outputs": [
        {
          "output_type": "stream",
          "name": "stdout",
          "text": [
            "2022-07-28 12:52:45.816270\n"
          ]
        }
      ]
    },
    {
      "cell_type": "markdown",
      "metadata": {
        "id": "Yy24sL0bUtpF"
      },
      "source": [
        "---\n",
        "Exercise 2 - print the current year\n",
        "\n",
        "Write a function that will return the current year.  The caller will print the year."
      ]
    },
    {
      "cell_type": "code",
      "metadata": {
        "id": "YqlQqPIqUtyr",
        "colab": {
          "base_uri": "https://localhost:8080/"
        },
        "outputId": "28ec7f5f-ba86-4dc0-d437-493d594cfdbb"
      },
      "source": [
        "from datetime import datetime, timezone\n",
        "def get_year():\n",
        "  get_year=datetime.now()\n",
        "  return get_year.year\n",
        "print(get_year())"
      ],
      "execution_count": 214,
      "outputs": [
        {
          "output_type": "stream",
          "name": "stdout",
          "text": [
            "2022\n"
          ]
        }
      ]
    },
    {
      "cell_type": "markdown",
      "metadata": {
        "id": "FzSVCaJKV1O1"
      },
      "source": [
        "---\n",
        "### Exercise 3 - print the current day of the week\n",
        "\n",
        "Write a function that will return the current day of the week.  The caller will print it."
      ]
    },
    {
      "cell_type": "code",
      "metadata": {
        "id": "OP4ZIXBWV1Yj",
        "colab": {
          "base_uri": "https://localhost:8080/"
        },
        "outputId": "55b666e0-b881-4bc1-dc5a-87255d0a36f6"
      },
      "source": [
        "from datetime import datetime, timezone\n",
        "def current_day():\n",
        "  day = datetime.now()\n",
        "  return day.strftime(\"%A\")\n",
        "print(current_day())"
      ],
      "execution_count": 212,
      "outputs": [
        {
          "output_type": "stream",
          "name": "stdout",
          "text": [
            "Thursday\n"
          ]
        }
      ]
    },
    {
      "cell_type": "markdown",
      "metadata": {
        "id": "a8euCtdmWIDE"
      },
      "source": [
        "---\n",
        "### Exercise 4 - create a new date\n",
        "\n",
        "Write a function that will take 3 parameters, day, month, year (3 numbers that make a valid date) and will create, and return a new date.  The caller will print the date."
      ]
    },
    {
      "cell_type": "code",
      "metadata": {
        "id": "FbOFnTwnWILN",
        "colab": {
          "base_uri": "https://localhost:8080/"
        },
        "outputId": "9361669d-997f-4572-f0e8-bf589713f6a5"
      },
      "source": [
        "from datetime import datetime, timezone\n",
        "def new_date():\n",
        "  n_date=datetime(2022,8,16)\n",
        "  return n_date\n",
        "print(new_date())"
      ],
      "execution_count": 207,
      "outputs": [
        {
          "output_type": "stream",
          "name": "stdout",
          "text": [
            "2022-08-16 00:00:00\n"
          ]
        }
      ]
    },
    {
      "cell_type": "markdown",
      "metadata": {
        "id": "f5SKVuE0WfcE"
      },
      "source": [
        "---\n",
        "### Exercise 5 - create a valid date\n",
        "\n",
        "Write a function that will take 3 parameters, day, month, year (3 numbers) and will:  \n",
        "*   check that the month is between 1 and 12  \n",
        "*   check that the day is valid for the month (e.g. if the month is 2, then the day must be between 1 and 28 (don't worry about leap years for the moment)  \n",
        "*   if the date is not valid, print an error message and return None (which the caller will print)  \n",
        "*   if the date is valid, store it in a new variable, return the variable and the caller will print it."
      ]
    },
    {
      "cell_type": "code",
      "metadata": {
        "id": "gclt-f9-XfdG",
        "colab": {
          "base_uri": "https://localhost:8080/"
        },
        "outputId": "044d58b6-87aa-4c14-a19c-8e16150d6453"
      },
      "source": [
        "from datetime import datetime\n",
        "def n_date(day,month,year):\n",
        "  valid=False\n",
        "  if month >=1 and month <=12:\n",
        "    if month in[1,3,5,7,8,10,12] and day >=1 and day <=31:\n",
        "      valid=True\n",
        "    elif month in [4,6,9,11] and day >=1 and day <=30 :\n",
        "      valid=True\n",
        "    elif month ==2 and day >=1 and day <=28:\n",
        "      valid=True\n",
        "    else:\n",
        "      valid=False\n",
        "      print(\"Error\")\n",
        "      return None\n",
        "    if valid==True:\n",
        "      date=datetime(year,month,day)\n",
        "      return date\n",
        "print(n_date(16,8,2022))"
      ],
      "execution_count": 13,
      "outputs": [
        {
          "output_type": "stream",
          "name": "stdout",
          "text": [
            "2022-08-16 00:00:00\n"
          ]
        }
      ]
    },
    {
      "cell_type": "markdown",
      "metadata": {
        "id": "js7fy2HWXfm2"
      },
      "source": [
        "---\n",
        "### Exercise 6 - is it a leap year?\n",
        "\n",
        "Write a function that will take a date as a parameter (you will need to create the date variable before calling the function) and will determine if it is a leap year, returning True or False.\n",
        "\n",
        "*Hint:  a leap year is a year that is divisible by 4 but the centuries (1900, 2000, etc are only leap years if they are divisible by 400)*"
      ]
    },
    {
      "cell_type": "code",
      "metadata": {
        "id": "KY1jtf3lX_ps",
        "colab": {
          "base_uri": "https://localhost:8080/"
        },
        "outputId": "5ced50d9-2059-484b-dedc-25b41449ebc3"
      },
      "source": [
        "from datetime import datetime\n",
        "def is_leap_year(date_to_check):\n",
        "  # add your code below here\n",
        "  leap_year=False\n",
        "  if date_to_check.year%4 ==0:\n",
        "    leap_year=True\n",
        "    if date_to_check.year%100 ==0 and date_to_check.year%400 !=0 :\n",
        "      leap_year=False \n",
        "  else:\n",
        "      leap_year=False\n",
        "  return leap_year\n",
        "\n",
        "\n",
        "    \n",
        "\n",
        "\n",
        "check_date = datetime(1995, 12, 15) \n",
        "if is_leap_year(check_date):\n",
        "  print(check_date.strftime(\"%Y\"), \"is a leap year\")\n",
        "else:\n",
        "  print(check_date.strftime(\"%Y\"), \"is not a leap year\")"
      ],
      "execution_count": 112,
      "outputs": [
        {
          "output_type": "stream",
          "name": "stdout",
          "text": [
            "1995 is not a leap year\n"
          ]
        }
      ]
    },
    {
      "cell_type": "markdown",
      "metadata": {
        "id": "9BuRDi08YAO0"
      },
      "source": [
        "---\n",
        "### Exercise 7 - display parts of date/time\n",
        "\n",
        "Write a function that will take a date and print from it the following:  \n",
        "*  given date and time  \n",
        "*  year (in full) \n",
        "*  month (as a number) \n",
        "*  month name \n",
        "*  week number of the year  \n",
        "*  weekday of the week (as a number)  \n",
        "*  day of year  \n",
        "*  day of the month  \n",
        "*  day of week (as a name)  \n",
        "\n",
        "*Hint:  see w3Schools for [strftime reference](https://www.w3schools.com/python/python_datetime.asp)*\n",
        "\n"
      ]
    },
    {
      "cell_type": "code",
      "metadata": {
        "id": "zl-37Ez9ahym",
        "colab": {
          "base_uri": "https://localhost:8080/"
        },
        "outputId": "11668ac9-3297-427d-8822-caa843b49bf2"
      },
      "source": [
        "from datetime import datetime\n",
        "def display_date(year,month,day):\n",
        "  dis_date = datetime(year,month,day)\n",
        "  print(dis_date)\n",
        "  print(dis_date.strftime(\"%Y\"))\n",
        "  print(dis_date.strftime(\"%m\"))\n",
        "  print(dis_date.strftime(\"%B\"))\n",
        "  print(dis_date.strftime(\"%W\"))\n",
        "  print(dis_date.strftime(\"%w\"))\n",
        "  print(dis_date.strftime(\"%d\"))\n",
        "  print(dis_date.strftime(\"%a\"))\n",
        "  print(dis_date.strftime(\"%A\"))\n",
        "display_date(1995,8,16)"
      ],
      "execution_count": 144,
      "outputs": [
        {
          "output_type": "stream",
          "name": "stdout",
          "text": [
            "1995-08-16 00:00:00\n",
            "1995\n",
            "08\n",
            "August\n",
            "33\n",
            "3\n",
            "16\n",
            "Wed\n",
            "Wednesday\n"
          ]
        }
      ]
    },
    {
      "cell_type": "markdown",
      "metadata": {
        "id": "_rpTIoSDaiBj"
      },
      "source": [
        "---\n",
        "### Exercise 8 - next 6 days\n",
        "\n",
        "Write a function that will take a date and generate the dates of the following 6 days.  It should print each of the 6 days in the form:  \n",
        "\n",
        "DAY OF THE WEEK, MONTH NAME, FULL YEAR\n",
        "\n",
        "Hint:  to generate the days, use the function datetime.timedelta(), there is a good example of its use [here](https://www.geeksforgeeks.org/python-datetime-timedelta-function/)  "
      ]
    },
    {
      "cell_type": "code",
      "metadata": {
        "id": "1d-oXqLLb0vX",
        "colab": {
          "base_uri": "https://localhost:8080/"
        },
        "outputId": "e4f3b811-35b9-4cd9-f8f0-944963b4ae93"
      },
      "source": [
        "from datetime import datetime, timedelta\n",
        "def six_days(year,month,day):\n",
        "  start_date = datetime(year,month,day)\n",
        "  days_added=0\n",
        "  print(\"Starting Date\",start_date.strftime(\"%a\"),start_date.strftime(\"%d\"),start_date.strftime(\"%B\"),start_date.strftime(\"%Y\"))\n",
        "  while days_added <=5:\n",
        "    days_added+=1\n",
        "    future_date_1day=start_date + timedelta(days = days_added)\n",
        "    print(\"Added\",days_added,\"days\",future_date_1day.strftime(\"%a\"),future_date_1day.strftime(\"%d\"),future_date_1day.strftime(\"%B\"),future_date_1day.strftime(\"%Y\"))\n",
        "six_days(1995,8,16)\n"
      ],
      "execution_count": 206,
      "outputs": [
        {
          "output_type": "stream",
          "name": "stdout",
          "text": [
            "Starting Date Wed 16 August 1995\n",
            "Added 1 days Thu 17 August 1995\n",
            "Added 2 days Fri 18 August 1995\n",
            "Added 3 days Sat 19 August 1995\n",
            "Added 4 days Sun 20 August 1995\n",
            "Added 5 days Mon 21 August 1995\n",
            "Added 6 days Tue 22 August 1995\n"
          ]
        }
      ]
    },
    {
      "cell_type": "markdown",
      "metadata": {
        "id": "22Rhwx2Sb1Ey"
      },
      "source": [
        "---\n",
        "### Optional extra practice\n",
        "\n",
        "There are some similar and some more challenging exercises [here](https://www.w3resource.com/python-exercises/date-time-exercise/) if you would like to practice more. The site has its own editor."
      ]
    }
  ]
}