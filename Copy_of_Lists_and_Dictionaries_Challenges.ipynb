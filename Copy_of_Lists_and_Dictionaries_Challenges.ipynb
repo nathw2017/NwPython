{
  "nbformat": 4,
  "nbformat_minor": 0,
  "metadata": {
    "colab": {
      "name": "Copy of Lists and Dictionaries Challenges.ipynb",
      "provenance": [],
      "collapsed_sections": [],
      "include_colab_link": true
    },
    "kernelspec": {
      "name": "python3",
      "display_name": "Python 3"
    },
    "language_info": {
      "name": "python"
    }
  },
  "cells": [
    {
      "cell_type": "markdown",
      "metadata": {
        "id": "view-in-github",
        "colab_type": "text"
      },
      "source": [
        "<a href=\"https://colab.research.google.com/github/nathw2017/NwPython/blob/main/Copy_of_Lists_and_Dictionaries_Challenges.ipynb\" target=\"_parent\"><img src=\"https://colab.research.google.com/assets/colab-badge.svg\" alt=\"Open In Colab\"/></a>"
      ]
    },
    {
      "cell_type": "markdown",
      "metadata": {
        "id": "nEJLJX3J9B2k"
      },
      "source": [
        "# Some challenges to help you become more confident with using Lists, Tuples and Dictionaries\n",
        "\n",
        "---\n",
        "\n"
      ]
    },
    {
      "cell_type": "markdown",
      "metadata": {
        "id": "JvV6htgh9Nc1"
      },
      "source": [
        "### Exercise 1 - extending a list\n",
        "\n",
        "There are three ways to extend a list in Python:  \n",
        "*  use `list_name.append(item)`, `list_name.insert(item)`\n",
        "*  concatenate two lists using the + operator (e.g. new_list = list1 + list2)\n",
        "*  use `list1_name.extend(list2_name)`\n",
        "\n",
        "The last method allows us to add all the `list2` items onto `list1` and for the new, extended list to now be `list1`.  `list2` will always be added to the end of `list1`.  \n",
        "\n",
        "If the objective is to add list2 before list1 then use `list2.extend(list1)`\n",
        "\n",
        "Write a function which will:  \n",
        "*  create a list of **years** containing the years 1960, 1970, 1980, 1990, 2000  \n",
        "*  print the list of years  \n",
        "*  calculate how long ago each year was and print the year and how long ago it was (e.g. 1990 was 30 years ago)  *(Hint:  use the datetime library to get the current year)*   \n",
        "*  create a second list, **years2** containing the years 2010 and 2020, extend `years` to include these later years\n",
        "*  create a third list, **years3** containing the years 1930, 1940 and 1950 and extend the list to include all the years between 1930 and 2020\n",
        "*  print the final list\n",
        "\n",
        "Expected output:  \n",
        "[1960, 1970, 1980, 1990]  \n",
        "1960 was 61 years ago  \n",
        "1970 was 51 years ago  \n",
        "1980 was 41 years ago  \n",
        "1990 was 31 years ago  \n",
        "2000 was 21 years ago  \n",
        "[1930, 1940, 1950, 1960, 1970, 1980, 1990, 2000, 2010, 2020] "
      ]
    },
    {
      "cell_type": "code",
      "metadata": {
        "id": "QAyTVqoO8-08",
        "colab": {
          "base_uri": "https://localhost:8080/"
        },
        "outputId": "8cb628cf-3105-463a-dd52-8fc290533d84"
      },
      "source": [
        "from datetime import date\n",
        "def how_long():\n",
        "  years=[1960,1970,1980,1990,2000]\n",
        "  print(years)\n",
        "  current_year=date.today().year\n",
        "  for i in years:\n",
        "    ago=current_year-i\n",
        "    print(i,\"was\",ago,\"years ago\")\n",
        "  years2=[2010,2011,2012,2013,2014,2015,2016,2017,2018,2019,2020]\n",
        "  years3=[1930,1940,1950,2001,2002,2003,2004,2005,2006,2007,2008,2009]\n",
        "  years.extend(years2+years3)\n",
        "  years.sort()\n",
        "  print(years)\n",
        "how_long()"
      ],
      "execution_count": null,
      "outputs": [
        {
          "output_type": "stream",
          "name": "stdout",
          "text": [
            "[1960, 1970, 1980, 1990, 2000]\n",
            "1960 was 62 years ago\n",
            "1970 was 52 years ago\n",
            "1980 was 42 years ago\n",
            "1990 was 32 years ago\n",
            "2000 was 22 years ago\n",
            "[1930, 1940, 1950, 1960, 1970, 1980, 1990, 2000, 2001, 2002, 2003, 2004, 2005, 2006, 2007, 2008, 2009, 2010, 2011, 2012, 2013, 2014, 2015, 2016, 2017, 2018, 2019, 2020]\n"
          ]
        }
      ]
    },
    {
      "cell_type": "markdown",
      "metadata": {
        "id": "S5iPicFzBzOW"
      },
      "source": [
        "---\n",
        "### Exercise 2 - creating a dictionary from a tuple and three lists\n",
        "\n",
        "Write a function which will create a list of dictionary items using the values in a tuple as the dictionary keys and the values in three corresponding lists as the dictionary values.\n",
        "\n",
        "*  loop through the status items in the tuple called task_status\n",
        "*  for each status, loop through the list with the same name (*Hint:  you can use eval(status) to access the list with the matching name  e.g. for task in eval(status)* )\n",
        "*  each time round this second loop, create a dictionary object with the  key:value pair {status : task}\n",
        "*  add each new dictionary to a list called **project_board** that was created as an empty list before the loops  \n",
        "*  print the project_board list\n",
        "\n",
        "Expected output:  \n",
        "\n",
        "[{'assigned': 'task1'}, {'assigned': 'task2'}, {'assigned': 'task3'}, {'inprogress': 'task4'}, {'inprogress': 'task5'}, {'inprogress': 'task6'}, {'completed': 'task7'}, {'completed': 'task8'}, {'completed': 'task9'}] \n",
        "\n"
      ]
    },
    {
      "cell_type": "code",
      "metadata": {
        "id": "KXYOSHY-C7m4",
        "colab": {
          "base_uri": "https://localhost:8080/"
        },
        "outputId": "c66f8a8e-624b-411c-8067-ebea4f50c655"
      },
      "source": [
        "def create_project_board():\n",
        "  task_status = (\"assigned\", \"inprogress\", \"completed\")\n",
        "  assigned = ['task1','task2','task3']\n",
        "  inprogress = ['task4','task5','task6']\n",
        "  completed = ['task7','task8','task9']\n",
        "  #  add your code below here\n",
        "  project_board=[]\n",
        "  for i in task_status:\n",
        "    for task in eval(i):\n",
        "      project={i:task}\n",
        "      project_board.append(project)\n",
        "  print(project_board)\n",
        "create_project_board()\n"
      ],
      "execution_count": null,
      "outputs": [
        {
          "output_type": "stream",
          "name": "stdout",
          "text": [
            "[{'assigned': 'task1'}, {'assigned': 'task2'}, {'assigned': 'task3'}, {'inprogress': 'task4'}, {'inprogress': 'task5'}, {'inprogress': 'task6'}, {'completed': 'task7'}, {'completed': 'task8'}, {'completed': 'task9'}]\n"
          ]
        }
      ]
    },
    {
      "cell_type": "markdown",
      "metadata": {
        "id": "M1BuTu9p19Ma"
      },
      "source": [
        "---\n",
        "### Exercise 3 - names and heights\n",
        "\n",
        "Write a function which will allow a user to enter the names and heights of a set of people and add each set of information as a record (dictionary) to a list. The function will stop collecting names and heights when the user enters \"STOP\" as the name.\n",
        "\n",
        "Then, the function will:  \n",
        "\n",
        "*   produce a list of names in order of the shortest person to the tallest\n",
        "*   calculate the name of the tallest person\n",
        "*   calculate the name of the shortest person\n",
        "*   calculate the average height\n",
        "*   calculate the name of the person who is closest to the average height\n",
        "\n",
        "\n",
        "\n",
        "\n"
      ]
    },
    {
      "cell_type": "code",
      "metadata": {
        "id": "reuyww3e18uv",
        "colab": {
          "base_uri": "https://localhost:8080/"
        },
        "outputId": "39e6c599-1752-454a-ffea-0b5fb2aecb4f"
      },
      "source": [
        "def name_height():\n",
        "  names_height={}\n",
        "  valid=False\n",
        "  while valid==False:\n",
        "    name=input(\"Enter Name: \")\n",
        "    if name!=\"STOP\":\n",
        "      height=int(input(\"Enter Height:\"))\n",
        "      names_height[name] = height\n",
        "    if name ==\"STOP\":\n",
        "      valid=True\n",
        "    \n",
        " #Shortest to Largest List\n",
        "  List_sorted = sorted(names_height.items(), key=lambda x: x[1])\n",
        "  print(\"Shortest to Largest List\")\n",
        "  for i in List_sorted:\n",
        "\t  print(i[0], i[1])\n",
        "  tallest=0\n",
        "  #Largest\n",
        "  for name,height in names_height.items():\n",
        "    if height>tallest:\n",
        "      tallest=height\n",
        "      tallest_name=name\n",
        "  print(tallest_name,\"is the tallest\") \n",
        "  #Smallest\n",
        "  for name,height in names_height.items():\n",
        "    if height<tallest:\n",
        "      tallest=height\n",
        "      tallest_name=name\n",
        "  print(tallest_name,\"is the shortest\")\n",
        "  #Avg Height\n",
        "  avg_height=0\n",
        "  for height in names_height:\n",
        "    avg_height= avg_height+names_height[height]\n",
        "    final_avg=avg_height/len(names_height)\n",
        "  print(\"Avg\",final_avg)\n",
        "  diffrence=1500\n",
        "  for name,height in names_height.items():\n",
        "    #closest_height=final_avg-height\n",
        "    if abs(final_avg-height) < diffrence:\n",
        "      diffrence=abs(final_avg-height)\n",
        "      a_name=name\n",
        "  print(\"Avg Name\",a_name)\n",
        "  print(\"Avg\",diffrence)  \n",
        "name_height() "
      ],
      "execution_count": 42,
      "outputs": [
        {
          "output_type": "stream",
          "name": "stdout",
          "text": [
            "Enter Name: e\n",
            "Enter Height:150\n",
            "Enter Name: n\n",
            "Enter Height:175\n",
            "Enter Name: b\n",
            "Enter Height:75\n",
            "Enter Name: STOP\n",
            "Shortest to Largest List\n",
            "b 75\n",
            "e 150\n",
            "n 175\n",
            "n is the tallest\n",
            "b is the shortest\n",
            "Avg 133.33333333333334\n",
            "Avg Name e\n",
            "Avg 16.666666666666657\n"
          ]
        }
      ]
    }
  ]
}