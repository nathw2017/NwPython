{
  "nbformat": 4,
  "nbformat_minor": 0,
  "metadata": {
    "colab": {
      "name": "Hangman Game.ipynb",
      "provenance": [],
      "collapsed_sections": [],
      "authorship_tag": "ABX9TyOVtBu9CkfximCzTQhEwU0z",
      "include_colab_link": true
    },
    "kernelspec": {
      "name": "python3",
      "display_name": "Python 3"
    },
    "language_info": {
      "name": "python"
    }
  },
  "cells": [
    {
      "cell_type": "markdown",
      "metadata": {
        "id": "view-in-github",
        "colab_type": "text"
      },
      "source": [
        "<a href=\"https://colab.research.google.com/github/nathw2017/NwPython/blob/main/Hangman_Game.ipynb\" target=\"_parent\"><img src=\"https://colab.research.google.com/assets/colab-badge.svg\" alt=\"Open In Colab\"/></a>"
      ]
    },
    {
      "cell_type": "markdown",
      "source": [
        "# Hangman Game"
      ],
      "metadata": {
        "id": "bteU37IJRuGM"
      }
    },
    {
      "cell_type": "code",
      "execution_count": 63,
      "metadata": {
        "colab": {
          "base_uri": "https://localhost:8080/"
        },
        "id": "kidr0AH5RqA8",
        "outputId": "4a793ec1-1a1e-4d01-e5e3-ceefd6720b1d"
      },
      "outputs": [
        {
          "output_type": "stream",
          "name": "stdout",
          "text": [
            "_____\n",
            "     |\n",
            "     |\n",
            "     |\n",
            "     |\n",
            "     |\n",
            "===========\n"
          ]
        }
      ],
      "source": [
        "def draw_gallows():\n",
        "  #Gallows\n",
        "  print(\"_____\")\n",
        "  print(\"     |\")\n",
        "  print(\"     |\")\n",
        "  print(\"     |\")\n",
        "  print(\"     |\")\n",
        "  print(\"     |\")\n",
        "  print(\"===========\")\n",
        "draw_gallows()"
      ]
    },
    {
      "cell_type": "code",
      "source": [
        "def draw_gallows_with_head():\n",
        "  print(\"_____\")\n",
        "  print(\"  |  |\")\n",
        "  print(\"  O  |\")\n",
        "  print(\"     |\")\n",
        "  print(\"     |\")\n",
        "  print(\"     |\")\n",
        "  print(\"===========\")\n",
        "draw_gallows_with_head()"
      ],
      "metadata": {
        "colab": {
          "base_uri": "https://localhost:8080/"
        },
        "id": "_9AdLCAEXEzP",
        "outputId": "ced26ee0-30ec-4009-bf98-c5b5e6745ee2"
      },
      "execution_count": 38,
      "outputs": [
        {
          "output_type": "stream",
          "name": "stdout",
          "text": [
            "_____\n",
            "  |  |\n",
            "  O  |\n",
            "     |\n",
            "     |\n",
            "     |\n",
            "===========\n"
          ]
        }
      ]
    },
    {
      "cell_type": "code",
      "source": [
        "def draw_body():\n",
        "  print(\"_____\")\n",
        "  print(\"  |  |\")\n",
        "  print(\"  O  |\")\n",
        "  print(\"  |  |\")\n",
        "  print(\"     |\")\n",
        "  print(\"     |\")\n",
        "  print(\"===========\")\n",
        "draw_body()"
      ],
      "metadata": {
        "colab": {
          "base_uri": "https://localhost:8080/"
        },
        "id": "JRlko6xjXqqf",
        "outputId": "c6ae72e0-dbbc-4dd4-e313-25451b6da331"
      },
      "execution_count": 43,
      "outputs": [
        {
          "output_type": "stream",
          "name": "stdout",
          "text": [
            "_____\n",
            "  |  |\n",
            "  O  |\n",
            "  |  |\n",
            "     |\n",
            "     |\n",
            "===========\n"
          ]
        }
      ]
    },
    {
      "cell_type": "code",
      "source": [
        "def draw_one_arm():\n",
        "  print(\"_____\")\n",
        "  print(\"  |  |\")\n",
        "  print(\"  O  |\")\n",
        "  print(\" /|  |\")\n",
        "  print(\"     |\")\n",
        "  print(\"     |\")\n",
        "  print(\"===========\")\n",
        "draw_one_arm()"
      ],
      "metadata": {
        "colab": {
          "base_uri": "https://localhost:8080/"
        },
        "id": "kEvtHlxVYt2w",
        "outputId": "77ae7165-286f-4d0a-f4ab-a2a94639f85b"
      },
      "execution_count": 75,
      "outputs": [
        {
          "output_type": "stream",
          "name": "stdout",
          "text": [
            "_____\n",
            "  |  |\n",
            "  O  |\n",
            " /|  |\n",
            "     |\n",
            "     |\n",
            "===========\n"
          ]
        }
      ]
    },
    {
      "cell_type": "code",
      "source": [
        "def draw_both_arms():\n",
        "  print(\"_____\")\n",
        "  print(\"  |  |\")\n",
        "  print(\"  O  |\")\n",
        "  print(\" /|\\ |\")\n",
        "  print(\"     |\")\n",
        "  print(\"     |\")\n",
        "  print(\"===========\")\n",
        "draw_both_arms()"
      ],
      "metadata": {
        "colab": {
          "base_uri": "https://localhost:8080/"
        },
        "id": "oAm9MjE3ZEB9",
        "outputId": "3e63289f-80ea-44ca-9776-c947e5c1b0b5"
      },
      "execution_count": 82,
      "outputs": [
        {
          "output_type": "stream",
          "name": "stdout",
          "text": [
            "_____\n",
            "  |  |\n",
            "  O  |\n",
            " /|\\ |\n",
            "     |\n",
            "     |\n",
            "===========\n"
          ]
        }
      ]
    },
    {
      "cell_type": "code",
      "source": [
        "def draw_one_leg():\n",
        "  print(\"_____\")\n",
        "  print(\"  |  |\")\n",
        "  print(\"  O  |\")\n",
        "  print(\" /|\\ |\")\n",
        "  print(\" /   |\")\n",
        "  print(\"     |\")\n",
        "  print(\"===========\")\n",
        "draw_one_leg()"
      ],
      "metadata": {
        "colab": {
          "base_uri": "https://localhost:8080/"
        },
        "id": "70xP-r6NZPRo",
        "outputId": "5054c706-d708-4025-f0be-d9c112073aee"
      },
      "execution_count": 84,
      "outputs": [
        {
          "output_type": "stream",
          "name": "stdout",
          "text": [
            "_____\n",
            "  |  |\n",
            "  O  |\n",
            " /|\\ |\n",
            " /   |\n",
            "     |\n",
            "===========\n"
          ]
        }
      ]
    },
    {
      "cell_type": "code",
      "source": [
        "def draw_both_legs():\n",
        "  print(\"_____\")\n",
        "  print(\"  |  |\")\n",
        "  print(\"  O  |\")\n",
        "  print(\" /|\\ |\")\n",
        "  print(\" / \\ |\")\n",
        "  print(\"     |\")\n",
        "  print(\"===========\")\n",
        "draw_both_legs()"
      ],
      "metadata": {
        "colab": {
          "base_uri": "https://localhost:8080/"
        },
        "id": "4xYiHMWyZe3u",
        "outputId": "0c47e369-8e11-43e9-fd0c-717b758185a2"
      },
      "execution_count": 85,
      "outputs": [
        {
          "output_type": "stream",
          "name": "stdout",
          "text": [
            "_____\n",
            "  |  |\n",
            "  O  |\n",
            " /|\\ |\n",
            " / \\ |\n",
            "     |\n",
            "===========\n"
          ]
        }
      ]
    },
    {
      "cell_type": "code",
      "source": [
        "def get_drawing(number):\n",
        "  if number ==1:\n",
        "    draw_gallows()\n",
        "  if number ==2:\n",
        "    draw_gallows_with_head()\n",
        "  if  number ==3:\n",
        "    draw_body()\n",
        "  if number ==4:\n",
        "    draw_one_arm()\n",
        "  if number ==5:\n",
        "    draw_both_arms()\n",
        "  if number ==6:\n",
        "    draw_one_leg()\n",
        "  if number ==7:\n",
        "    draw_both_legs()\n",
        "get_drawing(7)"
      ],
      "metadata": {
        "colab": {
          "base_uri": "https://localhost:8080/"
        },
        "id": "tjBwXBvEaRfJ",
        "outputId": "a7bc3cbf-a516-4bd0-fcec-e8f80a97ad4a"
      },
      "execution_count": 150,
      "outputs": [
        {
          "output_type": "stream",
          "name": "stdout",
          "text": [
            "_____\n",
            "  |  |\n",
            "  O  |\n",
            " /|\\ |\n",
            " / \\ |\n",
            "     |\n",
            "===========\n"
          ]
        }
      ]
    },
    {
      "cell_type": "code",
      "source": [
        "import random\n",
        "def get_random_words():\n",
        "  words=[\"apple\",\"pear\",\"strawberry\",\"car\",\"motorbike\",\"bike\",\"website\",\"computer\",\"laptop\",\"house\"]\n",
        "  random_word=random.choice(words)\n",
        "  return random_word\n",
        "get_random_words()"
      ],
      "metadata": {
        "colab": {
          "base_uri": "https://localhost:8080/",
          "height": 35
        },
        "id": "gE78h4AJezXB",
        "outputId": "a512fd34-e33a-4472-a980-fa6cffc58432"
      },
      "execution_count": 126,
      "outputs": [
        {
          "output_type": "execute_result",
          "data": {
            "text/plain": [
              "'car'"
            ],
            "application/vnd.google.colaboratory.intrinsic+json": {
              "type": "string"
            }
          },
          "metadata": {},
          "execution_count": 126
        }
      ]
    },
    {
      "cell_type": "code",
      "source": [
        "from google.colab import output\n",
        "def check_letter(random_word):\n",
        "  #Amount of guesses\n",
        "  guesses=1\n",
        "  #guess counter\n",
        "  right_guess=0\n",
        "  #Length of word\n",
        "  length=len(random_word)\n",
        "  #Checking if guesses are less than 7 \n",
        "  while guesses<=7 and right_guess !=length:\n",
        "    get_drawing(guesses)\n",
        "    print(\"The word has\",length,\"letters\")\n",
        "    print('-'*length)\n",
        "    print(\"You have\",8-guesses,\"guesses left\")\n",
        "    letter=input(\"Enter a letter: \")\n",
        "    #If Guessed letter is in word \n",
        "    if letter in random_word:\n",
        "      print(\"guess in word\")\n",
        "      right_guess+=1\n",
        "      output.clear()\n",
        "    #If letter is not in word\n",
        "    else:\n",
        "      guesses+=1\n",
        "      output.clear()\n",
        "  else:\n",
        "  #Checking if the right guesses match the length of word\n",
        "    if right_guess == length:\n",
        "      print(\"Word\",random_word)\n",
        "    else:\n",
        "    #Game over message\n",
        "      print(\"Game Over word was\",random_word)"
      ],
      "metadata": {
        "id": "_vAjdaR1kSGV"
      },
      "execution_count": 274,
      "outputs": []
    },
    {
      "cell_type": "code",
      "source": [
        "def testing():\n",
        "  word=get_random_words()\n",
        "  print(word)\n",
        "  check_letter(word)\n",
        "testing()"
      ],
      "metadata": {
        "colab": {
          "base_uri": "https://localhost:8080/"
        },
        "id": "ZP3yOE4tmT-H",
        "outputId": "a392952f-a105-4b87-c41d-19e88a6497d2"
      },
      "execution_count": null,
      "outputs": [
        {
          "output_type": "stream",
          "name": "stdout",
          "text": [
            "house\n",
            "_____\n",
            "     |\n",
            "     |\n",
            "     |\n",
            "     |\n",
            "     |\n",
            "===========\n",
            "The word has 5 letters\n",
            "-----\n",
            "You have 7 guesses left\n"
          ]
        }
      ]
    }
  ]
}